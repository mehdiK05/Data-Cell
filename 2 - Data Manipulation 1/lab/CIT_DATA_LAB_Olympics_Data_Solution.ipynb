{
  "cells": [
    {
      "cell_type": "markdown",
      "id": "loose-pakistan",
      "metadata": {
        "id": "loose-pakistan"
      },
      "source": [
        "# CIT Data Cell's first lab : *Olympics Data*\n",
        "\n",
        "\n",
        "This is a historical dataset on the modern Olympic Games, from Athens 1896 to Rio 2016. Each row consists of an individual athlete competing in an Olympic event and which medal was won (if any).\n",
        "\n",
        "Not sure where to begin? Scroll to the bottom to find challenges!"
      ]
    },
    {
      "cell_type": "markdown",
      "id": "italian-campaign",
      "metadata": {
        "id": "italian-campaign"
      },
      "source": [
        "## Data Dictionary\n",
        "\n",
        "|Column   |Explanation                   |\n",
        "| ------- | ---------------------------- |\n",
        "|id       |Unique number for each athlete |\n",
        "|name     |Athlete's name                 |\n",
        "|sex      |M or F                         |\n",
        "|age      |Age of the athlete                        |\n",
        "|height   |In centimeters                 |\n",
        "|weight   |In kilograms                   |\n",
        "|team     |Team name                      |\n",
        "|noc      |National Olympic Committee 3   |\n",
        "|games    |Year and season                |\n",
        "|year     |Integer                        |\n",
        "|season   |Summer or Winter               |\n",
        "|city     |Host city                      |\n",
        "|sport    |Sport                          |\n",
        "|event    |Event                          |\n",
        "|medal    |Gold, Silver, Bronze, or NA    |"
      ]
    },
    {
      "cell_type": "markdown",
      "id": "tracked-phrase",
      "metadata": {
        "id": "tracked-phrase"
      },
      "source": [
        "[Source](https://www.kaggle.com/heesoo37/120-years-of-olympic-history-athletes-and-results) and [license](https://creativecommons.org/publicdomain/zero/1.0/) of the dataset.\n",
        "The dataset is a consolidated version of data from www.sports-reference.com."
      ]
    },
    {
      "cell_type": "markdown",
      "id": "e108f920-44e6-4fac-96d0-b16fb5cd92c3",
      "metadata": {
        "id": "e108f920-44e6-4fac-96d0-b16fb5cd92c3"
      },
      "source": [
        "## Data Exploration"
      ]
    },
    {
      "cell_type": "markdown",
      "id": "9855f1a4-7a53-4b6e-9464-7329d4ba1d20",
      "metadata": {
        "id": "9855f1a4-7a53-4b6e-9464-7329d4ba1d20"
      },
      "source": [
        "## Basic data inspection, exploring our data"
      ]
    },
    {
      "cell_type": "code",
      "execution_count": 1,
      "id": "ac9f5b51-f24b-4bf4-8d1e-b3ef5346c10a",
      "metadata": {
        "executionCancelledAt": null,
        "executionTime": 506,
        "id": "ac9f5b51-f24b-4bf4-8d1e-b3ef5346c10a",
        "lastExecutedAt": 1698231810865,
        "lastScheduledRunId": null,
        "lastSuccessfullyExecutedCode": "# Importing pandas\nimport pandas as pd\nimport matplotlib.pyplot as plt\n\n# Find the data file in the project's directory and create a pd.DataFrame object containing our data.\ndf = pd.read_csv('data/athlete_events.csv.gz')"
      },
      "outputs": [],
      "source": [
        "# Importing pandas\n",
        "import pandas as pd\n",
        "import matplotlib.pyplot as plt\n",
        "\n",
        "# Find the data file in the project's directory and create a pd.DataFrame object containing our data.\n",
        "df = pd.read_csv('athlete_events.csv')"
      ]
    },
    {
      "cell_type": "markdown",
      "id": "8b5de323-6260-4086-b209-c9b39bc99747",
      "metadata": {
        "id": "8b5de323-6260-4086-b209-c9b39bc99747"
      },
      "source": [
        "- Perform basic data exploration\n",
        "\n",
        "    1. Display the first few rows of the dataset\n",
        "\n",
        "    2. Get information about the dataset, such as column names and data types\n",
        "\n",
        "    3. Generate descriptive statistics of the dataset\n",
        "\n",
        "    4. Get the dimensions of the dataset (number of rows, number of columns)\n",
        "\n",
        "    5. Check for missing values in the dataset"
      ]
    },
    {
      "cell_type": "code",
      "execution_count": 2,
      "id": "1b15f4e0-7746-44ca-b214-ff18fba80e88",
      "metadata": {
        "colab": {
          "base_uri": "https://localhost:8080/",
          "height": 451
        },
        "executionCancelledAt": null,
        "executionTime": 69,
        "id": "1b15f4e0-7746-44ca-b214-ff18fba80e88",
        "lastExecutedAt": 1698231810935,
        "lastScheduledRunId": null,
        "lastSuccessfullyExecutedCode": "# Display first few rows of the dataset\ndf.head()",
        "outputId": "f039c77c-fdff-4d2f-a872-6900d9af7464",
        "outputsMetadata": {
          "0": {
            "height": 208,
            "type": "dataFrame"
          }
        }
      },
      "outputs": [
        {
          "data": {
            "text/html": [
              "<div>\n",
              "<style scoped>\n",
              "    .dataframe tbody tr th:only-of-type {\n",
              "        vertical-align: middle;\n",
              "    }\n",
              "\n",
              "    .dataframe tbody tr th {\n",
              "        vertical-align: top;\n",
              "    }\n",
              "\n",
              "    .dataframe thead th {\n",
              "        text-align: right;\n",
              "    }\n",
              "</style>\n",
              "<table border=\"1\" class=\"dataframe\">\n",
              "  <thead>\n",
              "    <tr style=\"text-align: right;\">\n",
              "      <th></th>\n",
              "      <th>ID</th>\n",
              "      <th>Name</th>\n",
              "      <th>Sex</th>\n",
              "      <th>Age</th>\n",
              "      <th>Height</th>\n",
              "      <th>Weight</th>\n",
              "      <th>Team</th>\n",
              "      <th>NOC</th>\n",
              "      <th>Games</th>\n",
              "      <th>Year</th>\n",
              "      <th>Season</th>\n",
              "      <th>City</th>\n",
              "      <th>Sport</th>\n",
              "      <th>Event</th>\n",
              "      <th>Medal</th>\n",
              "    </tr>\n",
              "  </thead>\n",
              "  <tbody>\n",
              "    <tr>\n",
              "      <th>0</th>\n",
              "      <td>1</td>\n",
              "      <td>A Dijiang</td>\n",
              "      <td>M</td>\n",
              "      <td>24.0</td>\n",
              "      <td>180.0</td>\n",
              "      <td>80.0</td>\n",
              "      <td>China</td>\n",
              "      <td>CHN</td>\n",
              "      <td>1992 Summer</td>\n",
              "      <td>1992</td>\n",
              "      <td>Summer</td>\n",
              "      <td>Barcelona</td>\n",
              "      <td>Basketball</td>\n",
              "      <td>Basketball Men's Basketball</td>\n",
              "      <td>NaN</td>\n",
              "    </tr>\n",
              "    <tr>\n",
              "      <th>1</th>\n",
              "      <td>2</td>\n",
              "      <td>A Lamusi</td>\n",
              "      <td>M</td>\n",
              "      <td>23.0</td>\n",
              "      <td>170.0</td>\n",
              "      <td>60.0</td>\n",
              "      <td>China</td>\n",
              "      <td>CHN</td>\n",
              "      <td>2012 Summer</td>\n",
              "      <td>2012</td>\n",
              "      <td>Summer</td>\n",
              "      <td>London</td>\n",
              "      <td>Judo</td>\n",
              "      <td>Judo Men's Extra-Lightweight</td>\n",
              "      <td>NaN</td>\n",
              "    </tr>\n",
              "    <tr>\n",
              "      <th>2</th>\n",
              "      <td>3</td>\n",
              "      <td>Gunnar Nielsen Aaby</td>\n",
              "      <td>M</td>\n",
              "      <td>24.0</td>\n",
              "      <td>NaN</td>\n",
              "      <td>NaN</td>\n",
              "      <td>Denmark</td>\n",
              "      <td>DEN</td>\n",
              "      <td>1920 Summer</td>\n",
              "      <td>1920</td>\n",
              "      <td>Summer</td>\n",
              "      <td>Antwerpen</td>\n",
              "      <td>Football</td>\n",
              "      <td>Football Men's Football</td>\n",
              "      <td>NaN</td>\n",
              "    </tr>\n",
              "    <tr>\n",
              "      <th>3</th>\n",
              "      <td>4</td>\n",
              "      <td>Edgar Lindenau Aabye</td>\n",
              "      <td>M</td>\n",
              "      <td>34.0</td>\n",
              "      <td>NaN</td>\n",
              "      <td>NaN</td>\n",
              "      <td>Denmark/Sweden</td>\n",
              "      <td>DEN</td>\n",
              "      <td>1900 Summer</td>\n",
              "      <td>1900</td>\n",
              "      <td>Summer</td>\n",
              "      <td>Paris</td>\n",
              "      <td>Tug-Of-War</td>\n",
              "      <td>Tug-Of-War Men's Tug-Of-War</td>\n",
              "      <td>Gold</td>\n",
              "    </tr>\n",
              "    <tr>\n",
              "      <th>4</th>\n",
              "      <td>5</td>\n",
              "      <td>Christine Jacoba Aaftink</td>\n",
              "      <td>F</td>\n",
              "      <td>21.0</td>\n",
              "      <td>185.0</td>\n",
              "      <td>82.0</td>\n",
              "      <td>Netherlands</td>\n",
              "      <td>NED</td>\n",
              "      <td>1988 Winter</td>\n",
              "      <td>1988</td>\n",
              "      <td>Winter</td>\n",
              "      <td>Calgary</td>\n",
              "      <td>Speed Skating</td>\n",
              "      <td>Speed Skating Women's 500 metres</td>\n",
              "      <td>NaN</td>\n",
              "    </tr>\n",
              "  </tbody>\n",
              "</table>\n",
              "</div>"
            ],
            "text/plain": [
              "   ID                      Name Sex   Age  Height  Weight            Team  \\\n",
              "0   1                 A Dijiang   M  24.0   180.0    80.0           China   \n",
              "1   2                  A Lamusi   M  23.0   170.0    60.0           China   \n",
              "2   3       Gunnar Nielsen Aaby   M  24.0     NaN     NaN         Denmark   \n",
              "3   4      Edgar Lindenau Aabye   M  34.0     NaN     NaN  Denmark/Sweden   \n",
              "4   5  Christine Jacoba Aaftink   F  21.0   185.0    82.0     Netherlands   \n",
              "\n",
              "   NOC        Games  Year  Season       City          Sport  \\\n",
              "0  CHN  1992 Summer  1992  Summer  Barcelona     Basketball   \n",
              "1  CHN  2012 Summer  2012  Summer     London           Judo   \n",
              "2  DEN  1920 Summer  1920  Summer  Antwerpen       Football   \n",
              "3  DEN  1900 Summer  1900  Summer      Paris     Tug-Of-War   \n",
              "4  NED  1988 Winter  1988  Winter    Calgary  Speed Skating   \n",
              "\n",
              "                              Event Medal  \n",
              "0       Basketball Men's Basketball   NaN  \n",
              "1      Judo Men's Extra-Lightweight   NaN  \n",
              "2           Football Men's Football   NaN  \n",
              "3       Tug-Of-War Men's Tug-Of-War  Gold  \n",
              "4  Speed Skating Women's 500 metres   NaN  "
            ]
          },
          "execution_count": 2,
          "metadata": {},
          "output_type": "execute_result"
        }
      ],
      "source": [
        "# Display first few rows of the dataset\n",
        "df.head()"
      ]
    },
    {
      "cell_type": "code",
      "execution_count": 3,
      "id": "05a1844b-7ffa-422e-8751-869403e168b0",
      "metadata": {
        "colab": {
          "base_uri": "https://localhost:8080/"
        },
        "executionCancelledAt": null,
        "executionTime": 306,
        "id": "05a1844b-7ffa-422e-8751-869403e168b0",
        "lastExecutedAt": 1698231811241,
        "lastScheduledRunId": null,
        "lastSuccessfullyExecutedCode": "# Get information about the dataset, such as column names and data types\ndf.info()",
        "outputId": "31ac32df-4160-40af-c014-2a1d1e1837f6",
        "outputsMetadata": {
          "0": {
            "height": 446,
            "type": "stream"
          }
        }
      },
      "outputs": [
        {
          "name": "stdout",
          "output_type": "stream",
          "text": [
            "<class 'pandas.core.frame.DataFrame'>\n",
            "RangeIndex: 271116 entries, 0 to 271115\n",
            "Data columns (total 15 columns):\n",
            " #   Column  Non-Null Count   Dtype  \n",
            "---  ------  --------------   -----  \n",
            " 0   ID      271116 non-null  int64  \n",
            " 1   Name    271116 non-null  object \n",
            " 2   Sex     271116 non-null  object \n",
            " 3   Age     261642 non-null  float64\n",
            " 4   Height  210945 non-null  float64\n",
            " 5   Weight  208241 non-null  float64\n",
            " 6   Team    271116 non-null  object \n",
            " 7   NOC     271116 non-null  object \n",
            " 8   Games   271116 non-null  object \n",
            " 9   Year    271116 non-null  int64  \n",
            " 10  Season  271116 non-null  object \n",
            " 11  City    271116 non-null  object \n",
            " 12  Sport   271116 non-null  object \n",
            " 13  Event   271116 non-null  object \n",
            " 14  Medal   39783 non-null   object \n",
            "dtypes: float64(3), int64(2), object(10)\n",
            "memory usage: 31.0+ MB\n"
          ]
        }
      ],
      "source": [
        "# Get information about the dataset, such as column names and data types\n",
        "df.info()"
      ]
    },
    {
      "cell_type": "code",
      "execution_count": 4,
      "id": "b52a03c1-2610-4f30-9514-0136c080c65b",
      "metadata": {
        "colab": {
          "base_uri": "https://localhost:8080/",
          "height": 300
        },
        "executionCancelledAt": null,
        "executionTime": 65,
        "id": "b52a03c1-2610-4f30-9514-0136c080c65b",
        "lastExecutedAt": 1698231811306,
        "lastScheduledRunId": null,
        "lastSuccessfullyExecutedCode": "# Generate descriptive statistics of the dataset\ndf.describe()",
        "outputId": "0afe326a-81f4-4043-e86d-2b6e454514ac",
        "outputsMetadata": {
          "0": {
            "height": 264,
            "type": "dataFrame"
          }
        }
      },
      "outputs": [
        {
          "data": {
            "text/html": [
              "<div>\n",
              "<style scoped>\n",
              "    .dataframe tbody tr th:only-of-type {\n",
              "        vertical-align: middle;\n",
              "    }\n",
              "\n",
              "    .dataframe tbody tr th {\n",
              "        vertical-align: top;\n",
              "    }\n",
              "\n",
              "    .dataframe thead th {\n",
              "        text-align: right;\n",
              "    }\n",
              "</style>\n",
              "<table border=\"1\" class=\"dataframe\">\n",
              "  <thead>\n",
              "    <tr style=\"text-align: right;\">\n",
              "      <th></th>\n",
              "      <th>ID</th>\n",
              "      <th>Age</th>\n",
              "      <th>Height</th>\n",
              "      <th>Weight</th>\n",
              "      <th>Year</th>\n",
              "    </tr>\n",
              "  </thead>\n",
              "  <tbody>\n",
              "    <tr>\n",
              "      <th>count</th>\n",
              "      <td>271116.000000</td>\n",
              "      <td>261642.000000</td>\n",
              "      <td>210945.000000</td>\n",
              "      <td>208241.000000</td>\n",
              "      <td>271116.000000</td>\n",
              "    </tr>\n",
              "    <tr>\n",
              "      <th>mean</th>\n",
              "      <td>68248.954396</td>\n",
              "      <td>25.556898</td>\n",
              "      <td>175.338970</td>\n",
              "      <td>70.702393</td>\n",
              "      <td>1978.378480</td>\n",
              "    </tr>\n",
              "    <tr>\n",
              "      <th>std</th>\n",
              "      <td>39022.286345</td>\n",
              "      <td>6.393561</td>\n",
              "      <td>10.518462</td>\n",
              "      <td>14.348020</td>\n",
              "      <td>29.877632</td>\n",
              "    </tr>\n",
              "    <tr>\n",
              "      <th>min</th>\n",
              "      <td>1.000000</td>\n",
              "      <td>10.000000</td>\n",
              "      <td>127.000000</td>\n",
              "      <td>25.000000</td>\n",
              "      <td>1896.000000</td>\n",
              "    </tr>\n",
              "    <tr>\n",
              "      <th>25%</th>\n",
              "      <td>34643.000000</td>\n",
              "      <td>21.000000</td>\n",
              "      <td>168.000000</td>\n",
              "      <td>60.000000</td>\n",
              "      <td>1960.000000</td>\n",
              "    </tr>\n",
              "    <tr>\n",
              "      <th>50%</th>\n",
              "      <td>68205.000000</td>\n",
              "      <td>24.000000</td>\n",
              "      <td>175.000000</td>\n",
              "      <td>70.000000</td>\n",
              "      <td>1988.000000</td>\n",
              "    </tr>\n",
              "    <tr>\n",
              "      <th>75%</th>\n",
              "      <td>102097.250000</td>\n",
              "      <td>28.000000</td>\n",
              "      <td>183.000000</td>\n",
              "      <td>79.000000</td>\n",
              "      <td>2002.000000</td>\n",
              "    </tr>\n",
              "    <tr>\n",
              "      <th>max</th>\n",
              "      <td>135571.000000</td>\n",
              "      <td>97.000000</td>\n",
              "      <td>226.000000</td>\n",
              "      <td>214.000000</td>\n",
              "      <td>2016.000000</td>\n",
              "    </tr>\n",
              "  </tbody>\n",
              "</table>\n",
              "</div>"
            ],
            "text/plain": [
              "                  ID            Age         Height         Weight  \\\n",
              "count  271116.000000  261642.000000  210945.000000  208241.000000   \n",
              "mean    68248.954396      25.556898     175.338970      70.702393   \n",
              "std     39022.286345       6.393561      10.518462      14.348020   \n",
              "min         1.000000      10.000000     127.000000      25.000000   \n",
              "25%     34643.000000      21.000000     168.000000      60.000000   \n",
              "50%     68205.000000      24.000000     175.000000      70.000000   \n",
              "75%    102097.250000      28.000000     183.000000      79.000000   \n",
              "max    135571.000000      97.000000     226.000000     214.000000   \n",
              "\n",
              "                Year  \n",
              "count  271116.000000  \n",
              "mean     1978.378480  \n",
              "std        29.877632  \n",
              "min      1896.000000  \n",
              "25%      1960.000000  \n",
              "50%      1988.000000  \n",
              "75%      2002.000000  \n",
              "max      2016.000000  "
            ]
          },
          "execution_count": 4,
          "metadata": {},
          "output_type": "execute_result"
        }
      ],
      "source": [
        "# Generate descriptive statistics of the dataset\n",
        "df.describe()"
      ]
    },
    {
      "cell_type": "code",
      "execution_count": 5,
      "id": "b3cfb5cb-9aa2-45fe-8dc7-854bf966ac39",
      "metadata": {
        "colab": {
          "base_uri": "https://localhost:8080/"
        },
        "executionCancelledAt": null,
        "executionTime": 48,
        "id": "b3cfb5cb-9aa2-45fe-8dc7-854bf966ac39",
        "lastExecutedAt": 1698231811354,
        "lastScheduledRunId": null,
        "lastSuccessfullyExecutedCode": "# Get the dimensions of the dataset (number of rows, number of columns)\ndf.shape",
        "outputId": "df651079-0375-4734-ab1e-ed5063fbf1c1"
      },
      "outputs": [
        {
          "data": {
            "text/plain": [
              "(271116, 15)"
            ]
          },
          "execution_count": 5,
          "metadata": {},
          "output_type": "execute_result"
        }
      ],
      "source": [
        "# Get the dimensions of the dataset (number of rows, number of columns)\n",
        "df.shape"
      ]
    },
    {
      "cell_type": "code",
      "execution_count": 6,
      "id": "b4bc391e-e334-440e-91df-10b97b998c75",
      "metadata": {
        "colab": {
          "base_uri": "https://localhost:8080/"
        },
        "executionCancelledAt": null,
        "executionTime": 280,
        "id": "b4bc391e-e334-440e-91df-10b97b998c75",
        "lastExecutedAt": 1698231811635,
        "lastScheduledRunId": null,
        "lastSuccessfullyExecutedCode": "# Check for missing values in the dataset\ndf.isna().sum()",
        "outputId": "af133a87-5f70-44ea-d6dd-c81ecaeb5365",
        "outputsMetadata": {
          "0": {
            "height": 312,
            "type": "dataFrame"
          }
        }
      },
      "outputs": [
        {
          "data": {
            "text/plain": [
              "ID             0\n",
              "Name           0\n",
              "Sex            0\n",
              "Age         9474\n",
              "Height     60171\n",
              "Weight     62875\n",
              "Team           0\n",
              "NOC            0\n",
              "Games          0\n",
              "Year           0\n",
              "Season         0\n",
              "City           0\n",
              "Sport          0\n",
              "Event          0\n",
              "Medal     231333\n",
              "dtype: int64"
            ]
          },
          "execution_count": 6,
          "metadata": {},
          "output_type": "execute_result"
        }
      ],
      "source": [
        "# Check for missing values in the dataset\n",
        "df.isna().sum()"
      ]
    },
    {
      "cell_type": "markdown",
      "id": "855014da-6996-46c9-bedb-2787d6c39ba3",
      "metadata": {
        "id": "855014da-6996-46c9-bedb-2787d6c39ba3"
      },
      "source": [
        "After performing a basic inspection on our data, it's time to answer these questions in order to perform our analysis.\n",
        "\n",
        "### 🏅 Questions to answer:\n",
        "\n",
        "1. How many unique Olympic sports are there in the dataset?\n",
        "2. What unique sports are included in the Olympics dataset?\n",
        "3. What is the distribution of male and female athletes per sport?\n",
        "4. How has the number of participating athletes changed over time?\n",
        "5. Which country has the most gold medals, creating an all-time podium?\n",
        "6. What is the age distribution of gold medal winners?\n",
        "7. How many athletes competed in multiple Olympics?\n",
        "8. In which year and city did the Netherlands win the highest number of medals?\n",
        "9. Who are the oldest athletes in the dataset?\n",
        "\n",
        "### 📊 `pivot_table` Sub-Questions:\n",
        "\n",
        "1. What is the medal count by country?\n",
        "2. How many gold medals have been won by each country in each Olympic Games?\n",
        "3. What is the age distribution of athletes by sport?\n",
        "4. How many men and women participated in each sport?"
      ]
    },
    {
      "cell_type": "code",
      "execution_count": 7,
      "id": "f0acc3ae-5d5e-4139-8eab-d04fd65ff901",
      "metadata": {
        "colab": {
          "base_uri": "https://localhost:8080/"
        },
        "executionCancelledAt": null,
        "executionTime": 64,
        "id": "f0acc3ae-5d5e-4139-8eab-d04fd65ff901",
        "lastExecutedAt": 1698231811699,
        "lastScheduledRunId": null,
        "lastSuccessfullyExecutedCode": "# Find the number of unique Olympic sports\nnum_unique_sports = df['sport'].nunique()\nnum_unique_sports",
        "outputId": "0b25045e-ea1d-423a-8528-a2c24fc700cd"
      },
      "outputs": [
        {
          "data": {
            "text/plain": [
              "66"
            ]
          },
          "execution_count": 7,
          "metadata": {},
          "output_type": "execute_result"
        }
      ],
      "source": [
        "# Find the number of unique Olympic sports\n",
        "num_unique_sports = df['Sport'].nunique()\n",
        "num_unique_sports"
      ]
    },
    {
      "cell_type": "code",
      "execution_count": 8,
      "id": "99af8001-8321-4a1f-baaa-8ebb329a04b7",
      "metadata": {
        "colab": {
          "base_uri": "https://localhost:8080/"
        },
        "executionCancelledAt": null,
        "executionTime": 59,
        "id": "99af8001-8321-4a1f-baaa-8ebb329a04b7",
        "lastExecutedAt": 1698231811758,
        "lastScheduledRunId": null,
        "lastSuccessfullyExecutedCode": "# Find the unique sports in the Olympics dataset\nunique_sports = df['sport'].unique()\nunique_sports\n",
        "outputId": "2c1ea5d4-1c55-42b7-cecd-01f5e2d23d32"
      },
      "outputs": [
        {
          "data": {
            "text/plain": [
              "array(['Basketball', 'Judo', 'Football', 'Tug-Of-War', 'Speed Skating',\n",
              "       'Cross Country Skiing', 'Athletics', 'Ice Hockey', 'Swimming',\n",
              "       'Badminton', 'Sailing', 'Biathlon', 'Gymnastics',\n",
              "       'Art Competitions', 'Alpine Skiing', 'Handball', 'Weightlifting',\n",
              "       'Wrestling', 'Luge', 'Water Polo', 'Hockey', 'Rowing', 'Bobsleigh',\n",
              "       'Fencing', 'Equestrianism', 'Shooting', 'Boxing', 'Taekwondo',\n",
              "       'Cycling', 'Diving', 'Canoeing', 'Tennis', 'Modern Pentathlon',\n",
              "       'Figure Skating', 'Golf', 'Softball', 'Archery', 'Volleyball',\n",
              "       'Synchronized Swimming', 'Table Tennis', 'Nordic Combined',\n",
              "       'Baseball', 'Rhythmic Gymnastics', 'Freestyle Skiing',\n",
              "       'Rugby Sevens', 'Trampolining', 'Beach Volleyball', 'Triathlon',\n",
              "       'Ski Jumping', 'Curling', 'Snowboarding', 'Rugby',\n",
              "       'Short Track Speed Skating', 'Skeleton', 'Lacrosse', 'Polo',\n",
              "       'Cricket', 'Racquets', 'Motorboating', 'Military Ski Patrol',\n",
              "       'Croquet', 'Jeu De Paume', 'Roque', 'Alpinism', 'Basque Pelota',\n",
              "       'Aeronautics'], dtype=object)"
            ]
          },
          "execution_count": 8,
          "metadata": {},
          "output_type": "execute_result"
        }
      ],
      "source": [
        "# Find the unique sports in the Olympics dataset\n",
        "unique_sports = df['Sport'].unique()\n",
        "unique_sports\n"
      ]
    },
    {
      "cell_type": "code",
      "execution_count": 9,
      "id": "bba6ba2c-dc6d-44ac-b770-ddb3a29aaf72",
      "metadata": {
        "colab": {
          "base_uri": "https://localhost:8080/"
        },
        "executionCancelledAt": null,
        "executionTime": 59,
        "id": "bba6ba2c-dc6d-44ac-b770-ddb3a29aaf72",
        "lastExecutedAt": 1698231811818,
        "lastScheduledRunId": null,
        "lastSuccessfullyExecutedCode": "# Find the sport with the most athletes in the dataset\nmost_athletes_sport = df['sport'].value_counts().idxmax()\nprint(f\"The sport with the most athletes in the dataset is {most_athletes_sport}\")\n",
        "outputId": "0d72d56e-fe23-49ba-cc03-de7fdd2f1c97",
        "outputsMetadata": {
          "0": {
            "height": 37,
            "type": "stream"
          }
        }
      },
      "outputs": [
        {
          "name": "stdout",
          "output_type": "stream",
          "text": [
            "The sport with the most athletes in the dataset is Athletics\n"
          ]
        }
      ],
      "source": [
        "# Find the sport with the most athletes in the dataset\n",
        "most_athletes_sport = df['Sport'].value_counts().idxmax()\n",
        "print(f\"The sport with the most athletes in the dataset is {most_athletes_sport}\")\n"
      ]
    },
    {
      "cell_type": "code",
      "execution_count": 10,
      "id": "e1537232-8e13-4889-97c5-577cf2eb15db",
      "metadata": {
        "colab": {
          "base_uri": "https://localhost:8080/",
          "height": 538
        },
        "executionCancelledAt": null,
        "executionTime": 1243,
        "id": "e1537232-8e13-4889-97c5-577cf2eb15db",
        "lastExecutedAt": 1698231813061,
        "lastScheduledRunId": null,
        "lastSuccessfullyExecutedCode": "# Age distribution of athletes by sport\nimport matplotlib.pyplot as plt\n\nplt.figure(figsize=(12, 6))\ndf.groupby('sport')['age'].plot(kind='hist', alpha=0.5, legend=False)\nplt.xlabel('Age')\nplt.ylabel('Frequency')\nplt.title('Age Distribution of Athletes by Sport')\nplt.show()",
        "outputId": "96be6cae-e96f-44f0-d821-ad8ea147559d"
      },
      "outputs": [
        {
          "data": {
            "image/png": "[encoded data removed]",
            "text/plain": [
              "<Figure size 1200x600 with 1 Axes>"
            ]
          },
          "metadata": {},
          "output_type": "display_data"
        }
      ],
      "source": [
        "# Age distribution of athletes by sport\n",
        "import matplotlib.pyplot as plt\n",
        "\n",
        "plt.figure(figsize=(12, 6))\n",
        "df.groupby('Sport')['Age'].plot(kind='hist', alpha=0.5, legend=False)\n",
        "plt.xlabel('Age')\n",
        "plt.ylabel('Frequency')\n",
        "plt.title('Age Distribution of Athletes by Sport')\n",
        "plt.show()"
      ]
    },
    {
      "cell_type": "code",
      "execution_count": 11,
      "id": "ce66a4b7-30ba-435b-8614-edf377b36234",
      "metadata": {
        "colab": {
          "base_uri": "https://localhost:8080/",
          "height": 455
        },
        "executionCancelledAt": null,
        "executionTime": 52,
        "id": "ce66a4b7-30ba-435b-8614-edf377b36234",
        "lastExecutedAt": 1698231813113,
        "lastScheduledRunId": null,
        "lastSuccessfullyExecutedCode": "# Male/Female split of athletes per sport\nmale_female_split = df.groupby(['sport', 'sex']).size().unstack()\nmale_female_split\n",
        "outputId": "876eb7ef-0c87-4271-8787-f2fbe75bb349",
        "outputsMetadata": {
          "0": {
            "height": 312,
            "type": "dataFrame"
          }
        }
      },
      "outputs": [
        {
          "data": {
            "text/html": [
              "<div>\n",
              "<style scoped>\n",
              "    .dataframe tbody tr th:only-of-type {\n",
              "        vertical-align: middle;\n",
              "    }\n",
              "\n",
              "    .dataframe tbody tr th {\n",
              "        vertical-align: top;\n",
              "    }\n",
              "\n",
              "    .dataframe thead th {\n",
              "        text-align: right;\n",
              "    }\n",
              "</style>\n",
              "<table border=\"1\" class=\"dataframe\">\n",
              "  <thead>\n",
              "    <tr style=\"text-align: right;\">\n",
              "      <th>Sex</th>\n",
              "      <th>F</th>\n",
              "      <th>M</th>\n",
              "    </tr>\n",
              "    <tr>\n",
              "      <th>Sport</th>\n",
              "      <th></th>\n",
              "      <th></th>\n",
              "    </tr>\n",
              "  </thead>\n",
              "  <tbody>\n",
              "    <tr>\n",
              "      <th>Aeronautics</th>\n",
              "      <td>NaN</td>\n",
              "      <td>1.0</td>\n",
              "    </tr>\n",
              "    <tr>\n",
              "      <th>Alpine Skiing</th>\n",
              "      <td>3398.0</td>\n",
              "      <td>5431.0</td>\n",
              "    </tr>\n",
              "    <tr>\n",
              "      <th>Alpinism</th>\n",
              "      <td>1.0</td>\n",
              "      <td>24.0</td>\n",
              "    </tr>\n",
              "    <tr>\n",
              "      <th>Archery</th>\n",
              "      <td>1015.0</td>\n",
              "      <td>1319.0</td>\n",
              "    </tr>\n",
              "    <tr>\n",
              "      <th>Art Competitions</th>\n",
              "      <td>377.0</td>\n",
              "      <td>3201.0</td>\n",
              "    </tr>\n",
              "    <tr>\n",
              "      <th>...</th>\n",
              "      <td>...</td>\n",
              "      <td>...</td>\n",
              "    </tr>\n",
              "    <tr>\n",
              "      <th>Tug-Of-War</th>\n",
              "      <td>NaN</td>\n",
              "      <td>170.0</td>\n",
              "    </tr>\n",
              "    <tr>\n",
              "      <th>Volleyball</th>\n",
              "      <td>1543.0</td>\n",
              "      <td>1861.0</td>\n",
              "    </tr>\n",
              "    <tr>\n",
              "      <th>Water Polo</th>\n",
              "      <td>488.0</td>\n",
              "      <td>3358.0</td>\n",
              "    </tr>\n",
              "    <tr>\n",
              "      <th>Weightlifting</th>\n",
              "      <td>463.0</td>\n",
              "      <td>3474.0</td>\n",
              "    </tr>\n",
              "    <tr>\n",
              "      <th>Wrestling</th>\n",
              "      <td>304.0</td>\n",
              "      <td>6850.0</td>\n",
              "    </tr>\n",
              "  </tbody>\n",
              "</table>\n",
              "<p>66 rows × 2 columns</p>\n",
              "</div>"
            ],
            "text/plain": [
              "Sex                    F       M\n",
              "Sport                           \n",
              "Aeronautics          NaN     1.0\n",
              "Alpine Skiing     3398.0  5431.0\n",
              "Alpinism             1.0    24.0\n",
              "Archery           1015.0  1319.0\n",
              "Art Competitions   377.0  3201.0\n",
              "...                  ...     ...\n",
              "Tug-Of-War           NaN   170.0\n",
              "Volleyball        1543.0  1861.0\n",
              "Water Polo         488.0  3358.0\n",
              "Weightlifting      463.0  3474.0\n",
              "Wrestling          304.0  6850.0\n",
              "\n",
              "[66 rows x 2 columns]"
            ]
          },
          "execution_count": 11,
          "metadata": {},
          "output_type": "execute_result"
        }
      ],
      "source": [
        "# Male/Female split of athletes per sport\n",
        "male_female_split = df.groupby(['Sport', 'Sex']).size().unstack()\n",
        "male_female_split\n"
      ]
    },
    {
      "cell_type": "code",
      "execution_count": 12,
      "id": "987b6e14-2b99-4474-bf4c-647e00fbeac5",
      "metadata": {
        "colab": {
          "base_uri": "https://localhost:8080/",
          "height": 1000
        },
        "executionCancelledAt": null,
        "executionTime": 645,
        "id": "987b6e14-2b99-4474-bf4c-647e00fbeac5",
        "lastExecutedAt": 1698231813758,
        "lastScheduledRunId": null,
        "lastSuccessfullyExecutedCode": "import matplotlib.pyplot as plt\n\nplt.rcParams['figure.figsize'] = (10, 10)\nmale_female_split.plot(kind='bar')",
        "outputId": "aa90b6d9-a0ed-45ce-8f65-99238bab0e42"
      },
      "outputs": [
        {
          "data": {
            "text/plain": [
              "<Axes: xlabel='Sport'>"
            ]
          },
          "execution_count": 12,
          "metadata": {},
          "output_type": "execute_result"
        },
        {
          "data": {
            "image/png": "[encoded data removed]",
            "text/plain": [
              "<Figure size 1000x1000 with 1 Axes>"
            ]
          },
          "metadata": {},
          "output_type": "display_data"
        }
      ],
      "source": [
        "import matplotlib.pyplot as plt\n",
        "\n",
        "plt.rcParams['figure.figsize'] = (10, 10)\n",
        "male_female_split.plot(kind='bar')"
      ]
    },
    {
      "cell_type": "code",
      "execution_count": 13,
      "id": "d542b898-b9f4-4942-8a97-d6a4ab6bca5a",
      "metadata": {
        "colab": {
          "base_uri": "https://localhost:8080/",
          "height": 559
        },
        "executionCancelledAt": null,
        "executionTime": 292,
        "id": "d542b898-b9f4-4942-8a97-d6a4ab6bca5a",
        "lastExecutedAt": 1698231814050,
        "lastScheduledRunId": null,
        "lastSuccessfullyExecutedCode": "# Number of participating athletes over time\nimport matplotlib.pyplot as plt\n\nplt.figure(figsize=(12, 6))\ndf.groupby('year')['id'].nunique().plot(kind='bar')\nplt.xlabel('Year')\nplt.ylabel('Number of Athletes')\nplt.title('Number of Participating Athletes Over Time')\nplt.show()",
        "outputId": "fa034201-9749-4ffa-94ff-85435391d4be"
      },
      "outputs": [
        {
          "data": {
            "image/png": "[encoded data removed]",
            "text/plain": [
              "<Figure size 1200x600 with 1 Axes>"
            ]
          },
          "metadata": {},
          "output_type": "display_data"
        }
      ],
      "source": [
        "# Number of participating athletes over time\n",
        "import matplotlib.pyplot as plt\n",
        "\n",
        "plt.figure(figsize=(12, 6))\n",
        "df.groupby('Year')['ID'].nunique().plot(kind='bar')\n",
        "plt.xlabel('Year')\n",
        "plt.ylabel('Number of Athletes')\n",
        "plt.title('Number of Participating Athletes Over Time')\n",
        "plt.show()"
      ]
    },
    {
      "cell_type": "code",
      "execution_count": 14,
      "id": "ae3439fe-f548-40e5-85f4-f304600cd515",
      "metadata": {
        "colab": {
          "base_uri": "https://localhost:8080/"
        },
        "executionCancelledAt": null,
        "executionTime": 62,
        "id": "ae3439fe-f548-40e5-85f4-f304600cd515",
        "lastExecutedAt": 1698231814112,
        "lastScheduledRunId": null,
        "lastSuccessfullyExecutedCode": "# Country with the most gold medals, creating an all-time podium.\nmost_gold_medals_country = df[df['medal'] == 'Gold']['noc'].value_counts().head(3)\nmost_gold_medals_country",
        "outputId": "1572673a-a457-4412-9079-019c8a2c25b9"
      },
      "outputs": [
        {
          "data": {
            "text/plain": [
              "NOC\n",
              "USA    2638\n",
              "URS    1082\n",
              "GER     745\n",
              "Name: count, dtype: int64"
            ]
          },
          "execution_count": 14,
          "metadata": {},
          "output_type": "execute_result"
        }
      ],
      "source": [
        "# Country with the most gold medals, creating an all-time podium.\n",
        "most_gold_medals_country = df[df['Medal'] == 'Gold']['NOC'].value_counts().head(3)\n",
        "most_gold_medals_country"
      ]
    },
    {
      "cell_type": "code",
      "execution_count": 15,
      "id": "ff0df0b2-9f35-4319-8daa-0a16e8b5da62",
      "metadata": {
        "colab": {
          "base_uri": "https://localhost:8080/",
          "height": 331
        },
        "executionCancelledAt": null,
        "executionTime": 61,
        "id": "ff0df0b2-9f35-4319-8daa-0a16e8b5da62",
        "lastExecutedAt": 1698231814173,
        "lastScheduledRunId": null,
        "lastSuccessfullyExecutedCode": "# Male/Female split of athletes per sport\ndf.groupby('sport')['sex'].value_counts().head(8).to_frame()",
        "outputId": "98e4b768-50d3-46e4-f04a-9b745f3e6bf5",
        "outputsMetadata": {
          "0": {
            "height": 312,
            "type": "dataFrame"
          }
        }
      },
      "outputs": [
        {
          "data": {
            "text/html": [
              "<div>\n",
              "<style scoped>\n",
              "    .dataframe tbody tr th:only-of-type {\n",
              "        vertical-align: middle;\n",
              "    }\n",
              "\n",
              "    .dataframe tbody tr th {\n",
              "        vertical-align: top;\n",
              "    }\n",
              "\n",
              "    .dataframe thead th {\n",
              "        text-align: right;\n",
              "    }\n",
              "</style>\n",
              "<table border=\"1\" class=\"dataframe\">\n",
              "  <thead>\n",
              "    <tr style=\"text-align: right;\">\n",
              "      <th></th>\n",
              "      <th></th>\n",
              "      <th>count</th>\n",
              "    </tr>\n",
              "    <tr>\n",
              "      <th>Sport</th>\n",
              "      <th>Sex</th>\n",
              "      <th></th>\n",
              "    </tr>\n",
              "  </thead>\n",
              "  <tbody>\n",
              "    <tr>\n",
              "      <th>Aeronautics</th>\n",
              "      <th>M</th>\n",
              "      <td>1</td>\n",
              "    </tr>\n",
              "    <tr>\n",
              "      <th rowspan=\"2\" valign=\"top\">Alpine Skiing</th>\n",
              "      <th>M</th>\n",
              "      <td>5431</td>\n",
              "    </tr>\n",
              "    <tr>\n",
              "      <th>F</th>\n",
              "      <td>3398</td>\n",
              "    </tr>\n",
              "    <tr>\n",
              "      <th rowspan=\"2\" valign=\"top\">Alpinism</th>\n",
              "      <th>M</th>\n",
              "      <td>24</td>\n",
              "    </tr>\n",
              "    <tr>\n",
              "      <th>F</th>\n",
              "      <td>1</td>\n",
              "    </tr>\n",
              "    <tr>\n",
              "      <th rowspan=\"2\" valign=\"top\">Archery</th>\n",
              "      <th>M</th>\n",
              "      <td>1319</td>\n",
              "    </tr>\n",
              "    <tr>\n",
              "      <th>F</th>\n",
              "      <td>1015</td>\n",
              "    </tr>\n",
              "    <tr>\n",
              "      <th>Art Competitions</th>\n",
              "      <th>M</th>\n",
              "      <td>3201</td>\n",
              "    </tr>\n",
              "  </tbody>\n",
              "</table>\n",
              "</div>"
            ],
            "text/plain": [
              "                      count\n",
              "Sport            Sex       \n",
              "Aeronautics      M        1\n",
              "Alpine Skiing    M     5431\n",
              "                 F     3398\n",
              "Alpinism         M       24\n",
              "                 F        1\n",
              "Archery          M     1319\n",
              "                 F     1015\n",
              "Art Competitions M     3201"
            ]
          },
          "execution_count": 15,
          "metadata": {},
          "output_type": "execute_result"
        }
      ],
      "source": [
        "# Male/Female split of athletes per sport\n",
        "df.groupby('Sport')['Sex'].value_counts().head(8).to_frame()"
      ]
    },
    {
      "cell_type": "code",
      "execution_count": 16,
      "id": "969074af-c08b-400f-bee4-4b544ab248cf",
      "metadata": {
        "colab": {
          "base_uri": "https://localhost:8080/",
          "height": 1000
        },
        "executionCancelledAt": null,
        "executionTime": 836,
        "id": "969074af-c08b-400f-bee4-4b544ab248cf",
        "lastExecutedAt": 1698231815009,
        "lastScheduledRunId": null,
        "lastSuccessfullyExecutedCode": "# Male/Female split of athletes per sport\nimport matplotlib.pyplot as plt\n\nplt.figure(figsize=(12, 6))\ndf.groupby('sport')['sex'].value_counts().unstack().plot(kind='bar', subplots=True, figsize=(12, 12))\nplt.title('Male/Female Split of Athletes per Sport')\nplt.legend(['Female', 'Male'])\nplt.show()",
        "outputId": "b0fa5945-c651-4a99-c943-413e3960d3e5"
      },
      "outputs": [
        {
          "data": {
            "text/plain": [
              "<Figure size 1200x600 with 0 Axes>"
            ]
          },
          "metadata": {},
          "output_type": "display_data"
        },
        {
          "data": {
            "image/png": "[encoded data removed]",
            "text/plain": [
              "<Figure size 1200x1200 with 2 Axes>"
            ]
          },
          "metadata": {},
          "output_type": "display_data"
        }
      ],
      "source": [
        "# Male/Female split of athletes per sport\n",
        "import matplotlib.pyplot as plt\n",
        "\n",
        "plt.figure(figsize=(12, 6))\n",
        "df.groupby('Sport')['Sex'].value_counts().unstack().plot(kind='bar', subplots=True, figsize=(12, 12))\n",
        "plt.title('Male/Female Split of Athletes per Sport')\n",
        "plt.legend(['Female', 'Male'])\n",
        "plt.show()"
      ]
    },
    {
      "cell_type": "code",
      "execution_count": 17,
      "id": "8b21a25e-17a0-4487-8ecb-aac0c863ce6f",
      "metadata": {
        "colab": {
          "base_uri": "https://localhost:8080/",
          "height": 543
        },
        "executionCancelledAt": null,
        "executionTime": 194,
        "id": "8b21a25e-17a0-4487-8ecb-aac0c863ce6f",
        "lastExecutedAt": 1698231815203,
        "lastScheduledRunId": null,
        "lastSuccessfullyExecutedCode": "# Age distribution of gold medal winners\nimport matplotlib.pyplot as plt\n\nplt.figure(figsize=(12, 6))\ndf[df['medal'] == 'Gold']['age'].plot(kind='hist', alpha=0.5, legend=True)\nplt.xlabel('Age')\nplt.ylabel('Frequency')\nplt.title('Age Distribution of Gold Medal Winners')\nplt.show()",
        "outputId": "81cf128e-39aa-43e2-b42a-7d1dbd490cd7"
      },
      "outputs": [
        {
          "data": {
            "image/png": "[encoded data removed]",
            "text/plain": [
              "<Figure size 1200x600 with 1 Axes>"
            ]
          },
          "metadata": {},
          "output_type": "display_data"
        }
      ],
      "source": [
        "# Age distribution of gold medal winners\n",
        "import matplotlib.pyplot as plt\n",
        "\n",
        "plt.figure(figsize=(12, 6))\n",
        "df[df['Medal'] == 'Gold']['Age'].plot(kind='hist', alpha=0.5, legend=True)\n",
        "plt.xlabel('Age')\n",
        "plt.ylabel('Frequency')\n",
        "plt.title('Age Distribution of Gold Medal Winners')\n",
        "plt.show()"
      ]
    },
    {
      "cell_type": "code",
      "execution_count": 18,
      "id": "1d8439fb-6437-4e4c-bba4-18a0dcc8b3c5",
      "metadata": {
        "colab": {
          "base_uri": "https://localhost:8080/"
        },
        "executionCancelledAt": null,
        "executionTime": 47,
        "id": "1d8439fb-6437-4e4c-bba4-18a0dcc8b3c5",
        "lastExecutedAt": 1698231815250,
        "lastScheduledRunId": null,
        "lastSuccessfullyExecutedCode": "# Number of athletes who competed in multiple Olympics\nnum_multiple_olympics = df['id'].duplicated().sum()\nnum_multiple_olympics",
        "outputId": "3190f4fd-4418-406b-fd5f-d894d38aeee6"
      },
      "outputs": [
        {
          "data": {
            "text/plain": [
              "135545"
            ]
          },
          "execution_count": 18,
          "metadata": {},
          "output_type": "execute_result"
        }
      ],
      "source": [
        "# Number of athletes who competed in multiple Olympics\n",
        "num_multiple_olympics = df['ID'].duplicated().sum()\n",
        "num_multiple_olympics"
      ]
    },
    {
      "cell_type": "code",
      "execution_count": 19,
      "id": "5c4c09c8-926f-4d29-92b6-a06639a2fead",
      "metadata": {
        "colab": {
          "base_uri": "https://localhost:8080/"
        },
        "executionCancelledAt": null,
        "executionTime": 64,
        "id": "5c4c09c8-926f-4d29-92b6-a06639a2fead",
        "lastExecutedAt": 1698231815314,
        "lastScheduledRunId": null,
        "lastSuccessfullyExecutedCode": "# Year and city where the Netherlands won the highest number of medals\nnetherlands_medals = df[df['noc'] == 'NED'].groupby(['year', 'city'])['medal'].count()\nmax_medals_year_city = netherlands_medals.idxmax()\nmax_medals_year_city",
        "outputId": "e773f465-60cd-4d96-da39-9c986bd7502b"
      },
      "outputs": [
        {
          "data": {
            "text/plain": [
              "(2000, 'Sydney')"
            ]
          },
          "execution_count": 19,
          "metadata": {},
          "output_type": "execute_result"
        }
      ],
      "source": [
        "# Year and city where the Netherlands won the highest number of medals\n",
        "netherlands_medals = df[df['NOC'] == 'NED'].groupby(['Year', 'City'])['Medal'].count()\n",
        "max_medals_year_city = netherlands_medals.idxmax()\n",
        "max_medals_year_city"
      ]
    },
    {
      "cell_type": "code",
      "execution_count": 20,
      "id": "f2b4ff09-7d3b-4748-8444-2eb7ed596ae0",
      "metadata": {
        "colab": {
          "base_uri": "https://localhost:8080/",
          "height": 170
        },
        "executionCancelledAt": null,
        "executionTime": 49,
        "id": "f2b4ff09-7d3b-4748-8444-2eb7ed596ae0",
        "lastExecutedAt": 1698231815363,
        "lastScheduledRunId": null,
        "lastSuccessfullyExecutedCode": "# Oldest athletes in the dataset\noldest_athletes = df[df['age'] == df['age'].max()]\noldest_athletes",
        "outputId": "f51a0e81-9e6f-4f96-e73f-e3994e7bbb73",
        "outputsMetadata": {
          "0": {
            "height": 110,
            "type": "dataFrame"
          }
        }
      },
      "outputs": [
        {
          "data": {
            "text/html": [
              "<div>\n",
              "<style scoped>\n",
              "    .dataframe tbody tr th:only-of-type {\n",
              "        vertical-align: middle;\n",
              "    }\n",
              "\n",
              "    .dataframe tbody tr th {\n",
              "        vertical-align: top;\n",
              "    }\n",
              "\n",
              "    .dataframe thead th {\n",
              "        text-align: right;\n",
              "    }\n",
              "</style>\n",
              "<table border=\"1\" class=\"dataframe\">\n",
              "  <thead>\n",
              "    <tr style=\"text-align: right;\">\n",
              "      <th></th>\n",
              "      <th>ID</th>\n",
              "      <th>Name</th>\n",
              "      <th>Sex</th>\n",
              "      <th>Age</th>\n",
              "      <th>Height</th>\n",
              "      <th>Weight</th>\n",
              "      <th>Team</th>\n",
              "      <th>NOC</th>\n",
              "      <th>Games</th>\n",
              "      <th>Year</th>\n",
              "      <th>Season</th>\n",
              "      <th>City</th>\n",
              "      <th>Sport</th>\n",
              "      <th>Event</th>\n",
              "      <th>Medal</th>\n",
              "    </tr>\n",
              "  </thead>\n",
              "  <tbody>\n",
              "    <tr>\n",
              "      <th>257054</th>\n",
              "      <td>128719</td>\n",
              "      <td>John Quincy Adams Ward</td>\n",
              "      <td>M</td>\n",
              "      <td>97.0</td>\n",
              "      <td>NaN</td>\n",
              "      <td>NaN</td>\n",
              "      <td>United States</td>\n",
              "      <td>USA</td>\n",
              "      <td>1928 Summer</td>\n",
              "      <td>1928</td>\n",
              "      <td>Summer</td>\n",
              "      <td>Amsterdam</td>\n",
              "      <td>Art Competitions</td>\n",
              "      <td>Art Competitions Mixed Sculpturing, Statues</td>\n",
              "      <td>NaN</td>\n",
              "    </tr>\n",
              "  </tbody>\n",
              "</table>\n",
              "</div>"
            ],
            "text/plain": [
              "            ID                    Name Sex   Age  Height  Weight  \\\n",
              "257054  128719  John Quincy Adams Ward   M  97.0     NaN     NaN   \n",
              "\n",
              "                 Team  NOC        Games  Year  Season       City  \\\n",
              "257054  United States  USA  1928 Summer  1928  Summer  Amsterdam   \n",
              "\n",
              "                   Sport                                        Event Medal  \n",
              "257054  Art Competitions  Art Competitions Mixed Sculpturing, Statues   NaN  "
            ]
          },
          "execution_count": 20,
          "metadata": {},
          "output_type": "execute_result"
        }
      ],
      "source": [
        "# Oldest athletes in the dataset\n",
        "oldest_athletes = df[df['Age'] == df['Age'].max()]\n",
        "oldest_athletes"
      ]
    },
    {
      "cell_type": "markdown",
      "id": "e211202c-c7ee-4817-9857-af32f816206a",
      "metadata": {
        "id": "e211202c-c7ee-4817-9857-af32f816206a"
      },
      "source": [
        "## `pivot_table` sub-questions"
      ]
    },
    {
      "cell_type": "markdown",
      "id": "f539de8c-2c1e-4144-9632-cc15890e3b67",
      "metadata": {
        "id": "f539de8c-2c1e-4144-9632-cc15890e3b67"
      },
      "source": [
        "## Medal Count by Country"
      ]
    },
    {
      "cell_type": "code",
      "execution_count": 21,
      "id": "1fa09988-acd9-48bf-9751-55a21d15f8b4",
      "metadata": {
        "colab": {
          "base_uri": "https://localhost:8080/",
          "height": 455
        },
        "executionCancelledAt": null,
        "executionTime": 58,
        "id": "1fa09988-acd9-48bf-9751-55a21d15f8b4",
        "lastExecutedAt": 1698231815421,
        "lastScheduledRunId": null,
        "lastSuccessfullyExecutedCode": "# Medal count by country\nmedal_count_by_country = df.pivot_table(index='noc', columns='medal', values='id', aggfunc='count', fill_value=0)\nmedal_count_by_country\n",
        "outputId": "aa24e4fd-0e42-4b9d-f790-be08bf6b8788",
        "outputsMetadata": {
          "0": {
            "height": 312,
            "type": "dataFrame"
          }
        }
      },
      "outputs": [
        {
          "data": {
            "text/html": [
              "<div>\n",
              "<style scoped>\n",
              "    .dataframe tbody tr th:only-of-type {\n",
              "        vertical-align: middle;\n",
              "    }\n",
              "\n",
              "    .dataframe tbody tr th {\n",
              "        vertical-align: top;\n",
              "    }\n",
              "\n",
              "    .dataframe thead th {\n",
              "        text-align: right;\n",
              "    }\n",
              "</style>\n",
              "<table border=\"1\" class=\"dataframe\">\n",
              "  <thead>\n",
              "    <tr style=\"text-align: right;\">\n",
              "      <th>Medal</th>\n",
              "      <th>Bronze</th>\n",
              "      <th>Gold</th>\n",
              "      <th>Silver</th>\n",
              "    </tr>\n",
              "    <tr>\n",
              "      <th>NOC</th>\n",
              "      <th></th>\n",
              "      <th></th>\n",
              "      <th></th>\n",
              "    </tr>\n",
              "  </thead>\n",
              "  <tbody>\n",
              "    <tr>\n",
              "      <th>AFG</th>\n",
              "      <td>2</td>\n",
              "      <td>0</td>\n",
              "      <td>0</td>\n",
              "    </tr>\n",
              "    <tr>\n",
              "      <th>AHO</th>\n",
              "      <td>0</td>\n",
              "      <td>0</td>\n",
              "      <td>1</td>\n",
              "    </tr>\n",
              "    <tr>\n",
              "      <th>ALG</th>\n",
              "      <td>8</td>\n",
              "      <td>5</td>\n",
              "      <td>4</td>\n",
              "    </tr>\n",
              "    <tr>\n",
              "      <th>ANZ</th>\n",
              "      <td>5</td>\n",
              "      <td>20</td>\n",
              "      <td>4</td>\n",
              "    </tr>\n",
              "    <tr>\n",
              "      <th>ARG</th>\n",
              "      <td>91</td>\n",
              "      <td>91</td>\n",
              "      <td>92</td>\n",
              "    </tr>\n",
              "    <tr>\n",
              "      <th>...</th>\n",
              "      <td>...</td>\n",
              "      <td>...</td>\n",
              "      <td>...</td>\n",
              "    </tr>\n",
              "    <tr>\n",
              "      <th>VIE</th>\n",
              "      <td>0</td>\n",
              "      <td>1</td>\n",
              "      <td>3</td>\n",
              "    </tr>\n",
              "    <tr>\n",
              "      <th>WIF</th>\n",
              "      <td>5</td>\n",
              "      <td>0</td>\n",
              "      <td>0</td>\n",
              "    </tr>\n",
              "    <tr>\n",
              "      <th>YUG</th>\n",
              "      <td>93</td>\n",
              "      <td>130</td>\n",
              "      <td>167</td>\n",
              "    </tr>\n",
              "    <tr>\n",
              "      <th>ZAM</th>\n",
              "      <td>1</td>\n",
              "      <td>0</td>\n",
              "      <td>1</td>\n",
              "    </tr>\n",
              "    <tr>\n",
              "      <th>ZIM</th>\n",
              "      <td>1</td>\n",
              "      <td>17</td>\n",
              "      <td>4</td>\n",
              "    </tr>\n",
              "  </tbody>\n",
              "</table>\n",
              "<p>149 rows × 3 columns</p>\n",
              "</div>"
            ],
            "text/plain": [
              "Medal  Bronze  Gold  Silver\n",
              "NOC                        \n",
              "AFG         2     0       0\n",
              "AHO         0     0       1\n",
              "ALG         8     5       4\n",
              "ANZ         5    20       4\n",
              "ARG        91    91      92\n",
              "..        ...   ...     ...\n",
              "VIE         0     1       3\n",
              "WIF         5     0       0\n",
              "YUG        93   130     167\n",
              "ZAM         1     0       1\n",
              "ZIM         1    17       4\n",
              "\n",
              "[149 rows x 3 columns]"
            ]
          },
          "execution_count": 21,
          "metadata": {},
          "output_type": "execute_result"
        }
      ],
      "source": [
        "# Medal count by country\n",
        "medal_count_by_country = df.pivot_table(index='NOC', columns='Medal', values='ID', aggfunc='count', fill_value=0)\n",
        "medal_count_by_country"
      ]
    },
    {
      "cell_type": "markdown",
      "id": "60aad613-059c-46c5-ae28-b04133b10450",
      "metadata": {
        "id": "60aad613-059c-46c5-ae28-b04133b10450"
      },
      "source": [
        "## Gold Medals by Country in Each Olympic Games"
      ]
    },
    {
      "cell_type": "code",
      "execution_count": 22,
      "id": "6a39b74a-317a-46e9-8a24-1f67e1aed9b8",
      "metadata": {
        "colab": {
          "base_uri": "https://localhost:8080/",
          "height": 475
        },
        "executionCancelledAt": null,
        "executionTime": 120,
        "id": "6a39b74a-317a-46e9-8a24-1f67e1aed9b8",
        "lastExecutedAt": 1698231815542,
        "lastScheduledRunId": null,
        "lastSuccessfullyExecutedCode": "# Gold medals won by each country in each Olympic Games\ngold_medals_by_country = df[df['medal'] == 'Gold'].pivot_table(index='noc', columns='year', values='id', aggfunc='count', fill_value=0)\ngold_medals_by_country\n",
        "outputId": "2cb53076-edda-4635-e94f-8cd0a8236d85",
        "outputsMetadata": {
          "0": {
            "height": 329,
            "type": "dataFrame"
          }
        }
      },
      "outputs": [
        {
          "data": {
            "text/html": [
              "<div>\n",
              "<style scoped>\n",
              "    .dataframe tbody tr th:only-of-type {\n",
              "        vertical-align: middle;\n",
              "    }\n",
              "\n",
              "    .dataframe tbody tr th {\n",
              "        vertical-align: top;\n",
              "    }\n",
              "\n",
              "    .dataframe thead th {\n",
              "        text-align: right;\n",
              "    }\n",
              "</style>\n",
              "<table border=\"1\" class=\"dataframe\">\n",
              "  <thead>\n",
              "    <tr style=\"text-align: right;\">\n",
              "      <th>Year</th>\n",
              "      <th>1896</th>\n",
              "      <th>1900</th>\n",
              "      <th>1904</th>\n",
              "      <th>1906</th>\n",
              "      <th>1908</th>\n",
              "      <th>1912</th>\n",
              "      <th>1920</th>\n",
              "      <th>1924</th>\n",
              "      <th>1928</th>\n",
              "      <th>1932</th>\n",
              "      <th>...</th>\n",
              "      <th>1998</th>\n",
              "      <th>2000</th>\n",
              "      <th>2002</th>\n",
              "      <th>2004</th>\n",
              "      <th>2006</th>\n",
              "      <th>2008</th>\n",
              "      <th>2010</th>\n",
              "      <th>2012</th>\n",
              "      <th>2014</th>\n",
              "      <th>2016</th>\n",
              "    </tr>\n",
              "    <tr>\n",
              "      <th>NOC</th>\n",
              "      <th></th>\n",
              "      <th></th>\n",
              "      <th></th>\n",
              "      <th></th>\n",
              "      <th></th>\n",
              "      <th></th>\n",
              "      <th></th>\n",
              "      <th></th>\n",
              "      <th></th>\n",
              "      <th></th>\n",
              "      <th></th>\n",
              "      <th></th>\n",
              "      <th></th>\n",
              "      <th></th>\n",
              "      <th></th>\n",
              "      <th></th>\n",
              "      <th></th>\n",
              "      <th></th>\n",
              "      <th></th>\n",
              "      <th></th>\n",
              "      <th></th>\n",
              "    </tr>\n",
              "  </thead>\n",
              "  <tbody>\n",
              "    <tr>\n",
              "      <th>ALG</th>\n",
              "      <td>0</td>\n",
              "      <td>0</td>\n",
              "      <td>0</td>\n",
              "      <td>0</td>\n",
              "      <td>0</td>\n",
              "      <td>0</td>\n",
              "      <td>0</td>\n",
              "      <td>0</td>\n",
              "      <td>0</td>\n",
              "      <td>0</td>\n",
              "      <td>...</td>\n",
              "      <td>0</td>\n",
              "      <td>1</td>\n",
              "      <td>0</td>\n",
              "      <td>0</td>\n",
              "      <td>0</td>\n",
              "      <td>0</td>\n",
              "      <td>0</td>\n",
              "      <td>1</td>\n",
              "      <td>0</td>\n",
              "      <td>0</td>\n",
              "    </tr>\n",
              "    <tr>\n",
              "      <th>ANZ</th>\n",
              "      <td>0</td>\n",
              "      <td>0</td>\n",
              "      <td>0</td>\n",
              "      <td>0</td>\n",
              "      <td>15</td>\n",
              "      <td>5</td>\n",
              "      <td>0</td>\n",
              "      <td>0</td>\n",
              "      <td>0</td>\n",
              "      <td>0</td>\n",
              "      <td>...</td>\n",
              "      <td>0</td>\n",
              "      <td>0</td>\n",
              "      <td>0</td>\n",
              "      <td>0</td>\n",
              "      <td>0</td>\n",
              "      <td>0</td>\n",
              "      <td>0</td>\n",
              "      <td>0</td>\n",
              "      <td>0</td>\n",
              "      <td>0</td>\n",
              "    </tr>\n",
              "    <tr>\n",
              "      <th>ARG</th>\n",
              "      <td>0</td>\n",
              "      <td>0</td>\n",
              "      <td>0</td>\n",
              "      <td>0</td>\n",
              "      <td>0</td>\n",
              "      <td>0</td>\n",
              "      <td>0</td>\n",
              "      <td>5</td>\n",
              "      <td>3</td>\n",
              "      <td>3</td>\n",
              "      <td>...</td>\n",
              "      <td>0</td>\n",
              "      <td>0</td>\n",
              "      <td>0</td>\n",
              "      <td>28</td>\n",
              "      <td>0</td>\n",
              "      <td>20</td>\n",
              "      <td>0</td>\n",
              "      <td>1</td>\n",
              "      <td>0</td>\n",
              "      <td>21</td>\n",
              "    </tr>\n",
              "    <tr>\n",
              "      <th>ARM</th>\n",
              "      <td>0</td>\n",
              "      <td>0</td>\n",
              "      <td>0</td>\n",
              "      <td>0</td>\n",
              "      <td>0</td>\n",
              "      <td>0</td>\n",
              "      <td>0</td>\n",
              "      <td>0</td>\n",
              "      <td>0</td>\n",
              "      <td>0</td>\n",
              "      <td>...</td>\n",
              "      <td>0</td>\n",
              "      <td>0</td>\n",
              "      <td>0</td>\n",
              "      <td>0</td>\n",
              "      <td>0</td>\n",
              "      <td>0</td>\n",
              "      <td>0</td>\n",
              "      <td>0</td>\n",
              "      <td>0</td>\n",
              "      <td>1</td>\n",
              "    </tr>\n",
              "    <tr>\n",
              "      <th>AUS</th>\n",
              "      <td>2</td>\n",
              "      <td>3</td>\n",
              "      <td>0</td>\n",
              "      <td>0</td>\n",
              "      <td>0</td>\n",
              "      <td>0</td>\n",
              "      <td>0</td>\n",
              "      <td>4</td>\n",
              "      <td>1</td>\n",
              "      <td>3</td>\n",
              "      <td>...</td>\n",
              "      <td>0</td>\n",
              "      <td>60</td>\n",
              "      <td>2</td>\n",
              "      <td>49</td>\n",
              "      <td>1</td>\n",
              "      <td>31</td>\n",
              "      <td>2</td>\n",
              "      <td>18</td>\n",
              "      <td>0</td>\n",
              "      <td>23</td>\n",
              "    </tr>\n",
              "    <tr>\n",
              "      <th>...</th>\n",
              "      <td>...</td>\n",
              "      <td>...</td>\n",
              "      <td>...</td>\n",
              "      <td>...</td>\n",
              "      <td>...</td>\n",
              "      <td>...</td>\n",
              "      <td>...</td>\n",
              "      <td>...</td>\n",
              "      <td>...</td>\n",
              "      <td>...</td>\n",
              "      <td>...</td>\n",
              "      <td>...</td>\n",
              "      <td>...</td>\n",
              "      <td>...</td>\n",
              "      <td>...</td>\n",
              "      <td>...</td>\n",
              "      <td>...</td>\n",
              "      <td>...</td>\n",
              "      <td>...</td>\n",
              "      <td>...</td>\n",
              "      <td>...</td>\n",
              "    </tr>\n",
              "    <tr>\n",
              "      <th>UZB</th>\n",
              "      <td>0</td>\n",
              "      <td>0</td>\n",
              "      <td>0</td>\n",
              "      <td>0</td>\n",
              "      <td>0</td>\n",
              "      <td>0</td>\n",
              "      <td>0</td>\n",
              "      <td>0</td>\n",
              "      <td>0</td>\n",
              "      <td>0</td>\n",
              "      <td>...</td>\n",
              "      <td>0</td>\n",
              "      <td>1</td>\n",
              "      <td>0</td>\n",
              "      <td>2</td>\n",
              "      <td>0</td>\n",
              "      <td>1</td>\n",
              "      <td>0</td>\n",
              "      <td>1</td>\n",
              "      <td>0</td>\n",
              "      <td>4</td>\n",
              "    </tr>\n",
              "    <tr>\n",
              "      <th>VEN</th>\n",
              "      <td>0</td>\n",
              "      <td>0</td>\n",
              "      <td>0</td>\n",
              "      <td>0</td>\n",
              "      <td>0</td>\n",
              "      <td>0</td>\n",
              "      <td>0</td>\n",
              "      <td>0</td>\n",
              "      <td>0</td>\n",
              "      <td>0</td>\n",
              "      <td>...</td>\n",
              "      <td>0</td>\n",
              "      <td>0</td>\n",
              "      <td>0</td>\n",
              "      <td>0</td>\n",
              "      <td>0</td>\n",
              "      <td>0</td>\n",
              "      <td>0</td>\n",
              "      <td>1</td>\n",
              "      <td>0</td>\n",
              "      <td>0</td>\n",
              "    </tr>\n",
              "    <tr>\n",
              "      <th>VIE</th>\n",
              "      <td>0</td>\n",
              "      <td>0</td>\n",
              "      <td>0</td>\n",
              "      <td>0</td>\n",
              "      <td>0</td>\n",
              "      <td>0</td>\n",
              "      <td>0</td>\n",
              "      <td>0</td>\n",
              "      <td>0</td>\n",
              "      <td>0</td>\n",
              "      <td>...</td>\n",
              "      <td>0</td>\n",
              "      <td>0</td>\n",
              "      <td>0</td>\n",
              "      <td>0</td>\n",
              "      <td>0</td>\n",
              "      <td>0</td>\n",
              "      <td>0</td>\n",
              "      <td>0</td>\n",
              "      <td>0</td>\n",
              "      <td>1</td>\n",
              "    </tr>\n",
              "    <tr>\n",
              "      <th>YUG</th>\n",
              "      <td>0</td>\n",
              "      <td>0</td>\n",
              "      <td>0</td>\n",
              "      <td>0</td>\n",
              "      <td>0</td>\n",
              "      <td>0</td>\n",
              "      <td>0</td>\n",
              "      <td>2</td>\n",
              "      <td>1</td>\n",
              "      <td>0</td>\n",
              "      <td>...</td>\n",
              "      <td>0</td>\n",
              "      <td>0</td>\n",
              "      <td>0</td>\n",
              "      <td>0</td>\n",
              "      <td>0</td>\n",
              "      <td>0</td>\n",
              "      <td>0</td>\n",
              "      <td>0</td>\n",
              "      <td>0</td>\n",
              "      <td>0</td>\n",
              "    </tr>\n",
              "    <tr>\n",
              "      <th>ZIM</th>\n",
              "      <td>0</td>\n",
              "      <td>0</td>\n",
              "      <td>0</td>\n",
              "      <td>0</td>\n",
              "      <td>0</td>\n",
              "      <td>0</td>\n",
              "      <td>0</td>\n",
              "      <td>0</td>\n",
              "      <td>0</td>\n",
              "      <td>0</td>\n",
              "      <td>...</td>\n",
              "      <td>0</td>\n",
              "      <td>0</td>\n",
              "      <td>0</td>\n",
              "      <td>1</td>\n",
              "      <td>0</td>\n",
              "      <td>1</td>\n",
              "      <td>0</td>\n",
              "      <td>0</td>\n",
              "      <td>0</td>\n",
              "      <td>0</td>\n",
              "    </tr>\n",
              "  </tbody>\n",
              "</table>\n",
              "<p>109 rows × 35 columns</p>\n",
              "</div>"
            ],
            "text/plain": [
              "Year  1896  1900  1904  1906  1908  1912  1920  1924  1928  1932  ...  1998  \\\n",
              "NOC                                                               ...         \n",
              "ALG      0     0     0     0     0     0     0     0     0     0  ...     0   \n",
              "ANZ      0     0     0     0    15     5     0     0     0     0  ...     0   \n",
              "ARG      0     0     0     0     0     0     0     5     3     3  ...     0   \n",
              "ARM      0     0     0     0     0     0     0     0     0     0  ...     0   \n",
              "AUS      2     3     0     0     0     0     0     4     1     3  ...     0   \n",
              "..     ...   ...   ...   ...   ...   ...   ...   ...   ...   ...  ...   ...   \n",
              "UZB      0     0     0     0     0     0     0     0     0     0  ...     0   \n",
              "VEN      0     0     0     0     0     0     0     0     0     0  ...     0   \n",
              "VIE      0     0     0     0     0     0     0     0     0     0  ...     0   \n",
              "YUG      0     0     0     0     0     0     0     2     1     0  ...     0   \n",
              "ZIM      0     0     0     0     0     0     0     0     0     0  ...     0   \n",
              "\n",
              "Year  2000  2002  2004  2006  2008  2010  2012  2014  2016  \n",
              "NOC                                                         \n",
              "ALG      1     0     0     0     0     0     1     0     0  \n",
              "ANZ      0     0     0     0     0     0     0     0     0  \n",
              "ARG      0     0    28     0    20     0     1     0    21  \n",
              "ARM      0     0     0     0     0     0     0     0     1  \n",
              "AUS     60     2    49     1    31     2    18     0    23  \n",
              "..     ...   ...   ...   ...   ...   ...   ...   ...   ...  \n",
              "UZB      1     0     2     0     1     0     1     0     4  \n",
              "VEN      0     0     0     0     0     0     1     0     0  \n",
              "VIE      0     0     0     0     0     0     0     0     1  \n",
              "YUG      0     0     0     0     0     0     0     0     0  \n",
              "ZIM      0     0     1     0     1     0     0     0     0  \n",
              "\n",
              "[109 rows x 35 columns]"
            ]
          },
          "execution_count": 22,
          "metadata": {},
          "output_type": "execute_result"
        }
      ],
      "source": [
        "# Gold medals won by each country in each Olympic Games\n",
        "gold_medals_by_country = df[df['Medal'] == 'Gold'].pivot_table(index='NOC', columns='Year', values='ID', aggfunc='count', fill_value=0)\n",
        "gold_medals_by_country"
      ]
    },
    {
      "cell_type": "markdown",
      "id": "faabd8f4-ecfe-4d81-bb41-48ea2294d4b8",
      "metadata": {
        "id": "faabd8f4-ecfe-4d81-bb41-48ea2294d4b8"
      },
      "source": [
        "## Age Distribution of Athletes by Sport"
      ]
    },
    {
      "cell_type": "code",
      "execution_count": 23,
      "id": "aa4f6469-c1ca-4579-abe2-3bfe736b67b2",
      "metadata": {
        "colab": {
          "base_uri": "https://localhost:8080/",
          "height": 455
        },
        "executionCancelledAt": null,
        "executionTime": 60,
        "id": "aa4f6469-c1ca-4579-abe2-3bfe736b67b2",
        "lastExecutedAt": 1698231815603,
        "lastScheduledRunId": null,
        "lastSuccessfullyExecutedCode": "# Age distribution of athletes by sport\nage_distribution_by_sport = df.pivot_table(index='sport', values='age', aggfunc='mean')\nage_distribution_by_sport\n",
        "outputId": "d67f63e5-e251-405f-a21c-02b5ec14639e",
        "outputsMetadata": {
          "0": {
            "height": 312,
            "type": "dataFrame"
          }
        }
      },
      "outputs": [
        {
          "data": {
            "text/html": [
              "<div>\n",
              "<style scoped>\n",
              "    .dataframe tbody tr th:only-of-type {\n",
              "        vertical-align: middle;\n",
              "    }\n",
              "\n",
              "    .dataframe tbody tr th {\n",
              "        vertical-align: top;\n",
              "    }\n",
              "\n",
              "    .dataframe thead th {\n",
              "        text-align: right;\n",
              "    }\n",
              "</style>\n",
              "<table border=\"1\" class=\"dataframe\">\n",
              "  <thead>\n",
              "    <tr style=\"text-align: right;\">\n",
              "      <th></th>\n",
              "      <th>Age</th>\n",
              "    </tr>\n",
              "    <tr>\n",
              "      <th>Sport</th>\n",
              "      <th></th>\n",
              "    </tr>\n",
              "  </thead>\n",
              "  <tbody>\n",
              "    <tr>\n",
              "      <th>Aeronautics</th>\n",
              "      <td>26.000000</td>\n",
              "    </tr>\n",
              "    <tr>\n",
              "      <th>Alpine Skiing</th>\n",
              "      <td>23.205462</td>\n",
              "    </tr>\n",
              "    <tr>\n",
              "      <th>Alpinism</th>\n",
              "      <td>38.812500</td>\n",
              "    </tr>\n",
              "    <tr>\n",
              "      <th>Archery</th>\n",
              "      <td>27.935226</td>\n",
              "    </tr>\n",
              "    <tr>\n",
              "      <th>Art Competitions</th>\n",
              "      <td>45.901009</td>\n",
              "    </tr>\n",
              "    <tr>\n",
              "      <th>...</th>\n",
              "      <td>...</td>\n",
              "    </tr>\n",
              "    <tr>\n",
              "      <th>Tug-Of-War</th>\n",
              "      <td>29.309524</td>\n",
              "    </tr>\n",
              "    <tr>\n",
              "      <th>Volleyball</th>\n",
              "      <td>25.183800</td>\n",
              "    </tr>\n",
              "    <tr>\n",
              "      <th>Water Polo</th>\n",
              "      <td>25.659627</td>\n",
              "    </tr>\n",
              "    <tr>\n",
              "      <th>Weightlifting</th>\n",
              "      <td>25.502010</td>\n",
              "    </tr>\n",
              "    <tr>\n",
              "      <th>Wrestling</th>\n",
              "      <td>25.798289</td>\n",
              "    </tr>\n",
              "  </tbody>\n",
              "</table>\n",
              "<p>66 rows × 1 columns</p>\n",
              "</div>"
            ],
            "text/plain": [
              "                        Age\n",
              "Sport                      \n",
              "Aeronautics       26.000000\n",
              "Alpine Skiing     23.205462\n",
              "Alpinism          38.812500\n",
              "Archery           27.935226\n",
              "Art Competitions  45.901009\n",
              "...                     ...\n",
              "Tug-Of-War        29.309524\n",
              "Volleyball        25.183800\n",
              "Water Polo        25.659627\n",
              "Weightlifting     25.502010\n",
              "Wrestling         25.798289\n",
              "\n",
              "[66 rows x 1 columns]"
            ]
          },
          "execution_count": 23,
          "metadata": {},
          "output_type": "execute_result"
        }
      ],
      "source": [
        "# Age distribution of athletes by sport\n",
        "age_distribution_by_sport = df.pivot_table(index='Sport', values='Age', aggfunc='mean')\n",
        "age_distribution_by_sport"
      ]
    },
    {
      "cell_type": "markdown",
      "id": "76ac34ac-a39b-46bc-a6cc-0831c5cc246c",
      "metadata": {
        "id": "76ac34ac-a39b-46bc-a6cc-0831c5cc246c"
      },
      "source": [
        "## Number of Men and Women Participated in Each Sport"
      ]
    },
    {
      "cell_type": "code",
      "execution_count": 24,
      "id": "75fefa60-2305-4ad4-b686-f9256f7b7ff5",
      "metadata": {
        "colab": {
          "base_uri": "https://localhost:8080/",
          "height": 455
        },
        "executionCancelledAt": null,
        "executionTime": 56,
        "id": "75fefa60-2305-4ad4-b686-f9256f7b7ff5",
        "lastExecutedAt": 1698231815659,
        "lastScheduledRunId": null,
        "lastSuccessfullyExecutedCode": "# Number of men and women participated in each sport\nmen_women_participation = df.groupby(['sport', 'sex'])['id'].count().unstack()\nmen_women_participation\n",
        "outputId": "b5061541-e3e0-4b43-b79b-7549bb427e8a",
        "outputsMetadata": {
          "0": {
            "height": 312,
            "type": "dataFrame"
          }
        }
      },
      "outputs": [
        {
          "data": {
            "text/html": [
              "<div>\n",
              "<style scoped>\n",
              "    .dataframe tbody tr th:only-of-type {\n",
              "        vertical-align: middle;\n",
              "    }\n",
              "\n",
              "    .dataframe tbody tr th {\n",
              "        vertical-align: top;\n",
              "    }\n",
              "\n",
              "    .dataframe thead th {\n",
              "        text-align: right;\n",
              "    }\n",
              "</style>\n",
              "<table border=\"1\" class=\"dataframe\">\n",
              "  <thead>\n",
              "    <tr style=\"text-align: right;\">\n",
              "      <th>Sex</th>\n",
              "      <th>F</th>\n",
              "      <th>M</th>\n",
              "    </tr>\n",
              "    <tr>\n",
              "      <th>Sport</th>\n",
              "      <th></th>\n",
              "      <th></th>\n",
              "    </tr>\n",
              "  </thead>\n",
              "  <tbody>\n",
              "    <tr>\n",
              "      <th>Aeronautics</th>\n",
              "      <td>NaN</td>\n",
              "      <td>1.0</td>\n",
              "    </tr>\n",
              "    <tr>\n",
              "      <th>Alpine Skiing</th>\n",
              "      <td>3398.0</td>\n",
              "      <td>5431.0</td>\n",
              "    </tr>\n",
              "    <tr>\n",
              "      <th>Alpinism</th>\n",
              "      <td>1.0</td>\n",
              "      <td>24.0</td>\n",
              "    </tr>\n",
              "    <tr>\n",
              "      <th>Archery</th>\n",
              "      <td>1015.0</td>\n",
              "      <td>1319.0</td>\n",
              "    </tr>\n",
              "    <tr>\n",
              "      <th>Art Competitions</th>\n",
              "      <td>377.0</td>\n",
              "      <td>3201.0</td>\n",
              "    </tr>\n",
              "    <tr>\n",
              "      <th>...</th>\n",
              "      <td>...</td>\n",
              "      <td>...</td>\n",
              "    </tr>\n",
              "    <tr>\n",
              "      <th>Tug-Of-War</th>\n",
              "      <td>NaN</td>\n",
              "      <td>170.0</td>\n",
              "    </tr>\n",
              "    <tr>\n",
              "      <th>Volleyball</th>\n",
              "      <td>1543.0</td>\n",
              "      <td>1861.0</td>\n",
              "    </tr>\n",
              "    <tr>\n",
              "      <th>Water Polo</th>\n",
              "      <td>488.0</td>\n",
              "      <td>3358.0</td>\n",
              "    </tr>\n",
              "    <tr>\n",
              "      <th>Weightlifting</th>\n",
              "      <td>463.0</td>\n",
              "      <td>3474.0</td>\n",
              "    </tr>\n",
              "    <tr>\n",
              "      <th>Wrestling</th>\n",
              "      <td>304.0</td>\n",
              "      <td>6850.0</td>\n",
              "    </tr>\n",
              "  </tbody>\n",
              "</table>\n",
              "<p>66 rows × 2 columns</p>\n",
              "</div>"
            ],
            "text/plain": [
              "Sex                    F       M\n",
              "Sport                           \n",
              "Aeronautics          NaN     1.0\n",
              "Alpine Skiing     3398.0  5431.0\n",
              "Alpinism             1.0    24.0\n",
              "Archery           1015.0  1319.0\n",
              "Art Competitions   377.0  3201.0\n",
              "...                  ...     ...\n",
              "Tug-Of-War           NaN   170.0\n",
              "Volleyball        1543.0  1861.0\n",
              "Water Polo         488.0  3358.0\n",
              "Weightlifting      463.0  3474.0\n",
              "Wrestling          304.0  6850.0\n",
              "\n",
              "[66 rows x 2 columns]"
            ]
          },
          "execution_count": 24,
          "metadata": {},
          "output_type": "execute_result"
        }
      ],
      "source": [
        "# Number of men and women participated in each sport\n",
        "men_women_participation = df.groupby(['Sport', 'Sex'])['ID'].count().unstack()\n",
        "men_women_participation"
      ]
    }
  ],
  "metadata": {
    "colab": {
      "provenance": []
    },
    "editor": "DataCamp Workspace",
    "jupytext": {
      "cell_metadata_filter": "name,-all",
      "main_language": "python",
      "notebook_metadata_filter": "-all"
    },
    "kernelspec": {
      "display_name": "Python 3",
      "language": "python",
      "name": "python3"
    },
    "language_info": {
      "codemirror_mode": {
        "name": "ipython",
        "version": 3
      },
      "file_extension": ".py",
      "mimetype": "text/x-python",
      "name": "python",
      "nbconvert_exporter": "python",
      "pygments_lexer": "ipython3",
      "version": "3.12.3"
    },
    "varInspector": {
      "cols": {
        "lenName": 16,
        "lenType": 16,
        "lenVar": 40
      },
      "kernels_config": {
        "python": {
          "delete_cmd_postfix": "",
          "delete_cmd_prefix": "del ",
          "library": "var_list.py",
          "varRefreshCmd": "print(var_dic_list())"
        },
        "r": {
          "delete_cmd_postfix": ") ",
          "delete_cmd_prefix": "rm(",
          "library": "var_list.r",
          "varRefreshCmd": "cat(var_dic_list()) "
        }
      },
      "types_to_exclude": [
        "module",
        "function",
        "builtin_function_or_method",
        "instance",
        "_Feature"
      ],
      "window_display": false
    }
  },
  "nbformat": 4,
  "nbformat_minor": 5
}
