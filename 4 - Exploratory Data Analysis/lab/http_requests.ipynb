{
 "cells": [
  {
   "cell_type": "markdown",
   "metadata": {},
   "source": [
    "## Introduction\n",
    "This Jupyter notebook will guide you through the basics of making HTTP requests using Python's `requests` library. We'll cover GET, POST, PUT, and DELETE methods with simple, easy-to-understand examples.\n"
   ]
  },
  {
   "cell_type": "markdown",
   "metadata": {},
   "source": [
    "## Setup and Imports"
   ]
  },
  {
   "cell_type": "code",
   "execution_count": 1,
   "metadata": {},
   "outputs": [
    {
     "name": "stdout",
     "output_type": "stream",
     "text": [
      "Requirement already satisfied: requests in c:\\users\\lakhal badr\\desktop\\test\\test_webscrap\\.venv\\lib\\site-packages (2.32.3)\n",
      "Requirement already satisfied: charset-normalizer<4,>=2 in c:\\users\\lakhal badr\\desktop\\test\\test_webscrap\\.venv\\lib\\site-packages (from requests) (3.4.0)\n",
      "Requirement already satisfied: idna<4,>=2.5 in c:\\users\\lakhal badr\\desktop\\test\\test_webscrap\\.venv\\lib\\site-packages (from requests) (3.10)\n",
      "Requirement already satisfied: urllib3<3,>=1.21.1 in c:\\users\\lakhal badr\\desktop\\test\\test_webscrap\\.venv\\lib\\site-packages (from requests) (2.2.3)\n",
      "Requirement already satisfied: certifi>=2017.4.17 in c:\\users\\lakhal badr\\desktop\\test\\test_webscrap\\.venv\\lib\\site-packages (from requests) (2024.8.30)\n"
     ]
    },
    {
     "name": "stderr",
     "output_type": "stream",
     "text": [
      "\n",
      "[notice] A new release of pip is available: 24.0 -> 24.3.1\n",
      "[notice] To update, run: python.exe -m pip install --upgrade pip\n"
     ]
    }
   ],
   "source": [
    "!pip install requests"
   ]
  },
  {
   "cell_type": "code",
   "execution_count": 2,
   "metadata": {},
   "outputs": [],
   "source": [
    "import requests\n",
    "import json"
   ]
  },
  {
   "cell_type": "code",
   "execution_count": 3,
   "metadata": {},
   "outputs": [],
   "source": [
    "# We'll use JSONPlaceholder - a free online REST API for testing and prototyping\n",
    "BASE_URL = 'https://jsonplaceholder.typicode.com'"
   ]
  },
  {
   "cell_type": "markdown",
   "metadata": {},
   "source": [
    "## 1. GET Requests: Retrieving Data\n",
    "### GET requests are used to retrieve information from a server"
   ]
  },
  {
   "cell_type": "code",
   "execution_count": 4,
   "metadata": {},
   "outputs": [
    {
     "name": "stdout",
     "output_type": "stream",
     "text": [
      "User Information: {'id': 1, 'name': 'Leanne Graham', 'username': 'Bret', 'email': 'Sincere@april.biz', 'address': {'street': 'Kulas Light', 'suite': 'Apt. 556', 'city': 'Gwenborough', 'zipcode': '92998-3874', 'geo': {'lat': '-37.3159', 'lng': '81.1496'}}, 'phone': '1-770-736-8031 x56442', 'website': 'hildegard.org', 'company': {'name': 'Romaguera-Crona', 'catchPhrase': 'Multi-layered client-server neural-net', 'bs': 'harness real-time e-markets'}}\n"
     ]
    }
   ],
   "source": [
    "# Example 1: Get a single user\n",
    "def get_user(user_id):\n",
    "    \"\"\"\n",
    "    Fetch user information by their ID\n",
    "    \n",
    "    Args:\n",
    "        user_id (int): The ID of the user to retrieve\n",
    "    \n",
    "    Returns:\n",
    "        dict: User information\n",
    "    \"\"\"\n",
    "    response = requests.get(f'{BASE_URL}/users/{user_id}')\n",
    "    \n",
    "    # Check if the request was successful\n",
    "    # 200: Success, 404: Not found, 500: Internal Server Error, 301/302: Redirect\n",
    "    if response.status_code == 200:\n",
    "        return response.json()\n",
    "    else:\n",
    "        print(f'Error: Unable to fetch user. Status code: {response.status_code}')\n",
    "        return None\n",
    "\n",
    "\n",
    "\n",
    "user = get_user(1)\n",
    "print(\"User Information:\", user)"
   ]
  },
  {
   "cell_type": "code",
   "execution_count": 5,
   "metadata": {},
   "outputs": [
    {
     "name": "stdout",
     "output_type": "stream",
     "text": [
      "\n",
      "First 3 Posts:\n",
      "Title: sunt aut facere repellat provident occaecati excepturi optio reprehenderit\n",
      "Title: qui est esse\n",
      "Title: ea molestias quasi exercitationem repellat qui ipsa sit aut\n"
     ]
    }
   ],
   "source": [
    "# Example 2: Get all posts\n",
    "def get_all_posts():\n",
    "    \"\"\"\n",
    "    Retrieve all posts from the API\n",
    "    \n",
    "    Returns:\n",
    "        list: List of post dictionaries\n",
    "    \"\"\"\n",
    "    response = requests.get(f'{BASE_URL}/posts')\n",
    "    \n",
    "    if response.status_code == 200:\n",
    "        return response.json()\n",
    "    else:\n",
    "        print(f'Error: Unable to fetch posts. Status code: {response.status_code}')\n",
    "        return []\n",
    "\n",
    "\n",
    "\n",
    "# Fetch and print the first 3 posts\n",
    "posts = get_all_posts()[:3]\n",
    "print(\"\\nFirst 3 Posts:\")\n",
    "for post in posts:\n",
    "    print(f\"Title: {post['title']}\")"
   ]
  },
  {
   "cell_type": "markdown",
   "metadata": {},
   "source": [
    "## 2. POST Requests: Creating New Resources\n",
    "### POST requests are used to submit data to be processed by the server"
   ]
  },
  {
   "cell_type": "code",
   "execution_count": 6,
   "metadata": {},
   "outputs": [
    {
     "name": "stdout",
     "output_type": "stream",
     "text": [
      "\n",
      "Created Post: {'title': 'Learning HTTP Requests', 'body': 'CIT The Moon', 'userId': 1, 'id': 101}\n"
     ]
    }
   ],
   "source": [
    "def create_post(title, body, user_id):\n",
    "    \"\"\"\n",
    "    Create a new post\n",
    "    \n",
    "    Args:\n",
    "        title (str): Title of the post\n",
    "        body (str): Content of the post\n",
    "        user_id (int): ID of the user creating the post\n",
    "    \n",
    "    Returns:\n",
    "        dict: Created post information\n",
    "    \"\"\"\n",
    "    # Data to be sent in the request\n",
    "    post_data = {\n",
    "        'title': title,\n",
    "        'body': body,\n",
    "        'userId': user_id\n",
    "    }\n",
    "    \n",
    "    # Send POST request\n",
    "    response = requests.post(f'{BASE_URL}/posts', json=post_data)\n",
    "    \n",
    "    if response.status_code == 201:  # 201 is the standard status code for resource creation\n",
    "        return response.json()\n",
    "    else:\n",
    "        print(f'Error: Unable to create post. Status code: {response.status_code}')\n",
    "        return None\n",
    "\n",
    "# Create a new post\n",
    "new_post = create_post(\n",
    "    title='Learning HTTP Requests', \n",
    "    body='CIT The Moon',\n",
    "    user_id=1\n",
    ")\n",
    "print(\"\\nCreated Post:\", new_post)"
   ]
  },
  {
   "cell_type": "markdown",
   "metadata": {},
   "source": [
    "## 3. PUT Requests: Updating Existing Resources\n",
    "### PUT requests are used to update an entire existing resource"
   ]
  },
  {
   "cell_type": "code",
   "execution_count": 7,
   "metadata": {},
   "outputs": [
    {
     "name": "stdout",
     "output_type": "stream",
     "text": [
      "\n",
      "Updated Post: {'id': 1, 'title': 'Updated Title', 'body': 'This is an updated body for our post', 'userId': 1}\n"
     ]
    }
   ],
   "source": [
    "def update_post(post_id, new_title, new_body):\n",
    "    \"\"\"\n",
    "    Update an existing post\n",
    "    \n",
    "    Args:\n",
    "        post_id (int): ID of the post to update\n",
    "        new_title (str): Updated title\n",
    "        new_body (str): Updated body content\n",
    "    \n",
    "    Returns:\n",
    "        dict: Updated post information\n",
    "    \"\"\"\n",
    "    update_data = {\n",
    "        'id': post_id,\n",
    "        'title': new_title,\n",
    "        'body': new_body,\n",
    "        'userId': 1\n",
    "    }\n",
    "    \n",
    "    response = requests.put(f'{BASE_URL}/posts/{post_id}', json=update_data)\n",
    "    \n",
    "    if response.status_code == 200:\n",
    "        return response.json()\n",
    "    else:\n",
    "        print(f'Error: Unable to update post. Status code: {response.status_code}')\n",
    "        return None\n",
    "\n",
    "\n",
    "\n",
    "# Update a post\n",
    "updated_post = update_post(\n",
    "    post_id=1, \n",
    "    new_title='Updated Title', \n",
    "    new_body='This is an updated body for our post'\n",
    ")\n",
    "print(\"\\nUpdated Post:\", updated_post)"
   ]
  },
  {
   "cell_type": "markdown",
   "metadata": {},
   "source": [
    "## 4. DELETE Requests: Removing Resources\n",
    "### DELETE requests are used to remove a resource from the server"
   ]
  },
  {
   "cell_type": "code",
   "execution_count": 8,
   "metadata": {},
   "outputs": [
    {
     "name": "stdout",
     "output_type": "stream",
     "text": [
      "Post 1 successfully deleted\n",
      "\n",
      "Deletion Result: True\n"
     ]
    }
   ],
   "source": [
    "def delete_post(post_id):\n",
    "    \"\"\"\n",
    "    Delete a post by its ID\n",
    "    \n",
    "    Args:\n",
    "        post_id (int): ID of the post to delete\n",
    "    \n",
    "    Returns:\n",
    "        bool: True if deletion was successful, False otherwise\n",
    "    \"\"\"\n",
    "    response = requests.delete(f'{BASE_URL}/posts/{post_id}')\n",
    "    \n",
    "    if response.status_code == 200:\n",
    "        print(f\"Post {post_id} successfully deleted\")\n",
    "        return True\n",
    "    else:\n",
    "        print(f'Error: Unable to delete post. Status code: {response.status_code}')\n",
    "        return False\n",
    "\n",
    "\n",
    "\n",
    "# Delete a post\n",
    "deletion_result = delete_post(post_id=1)\n",
    "print(\"\\nDeletion Result:\", deletion_result)"
   ]
  },
  {
   "cell_type": "markdown",
   "metadata": {},
   "source": [
    "## Error Handling and Best Practices"
   ]
  },
  {
   "cell_type": "code",
   "execution_count": 9,
   "metadata": {},
   "outputs": [
    {
     "name": "stdout",
     "output_type": "stream",
     "text": [
      "\n",
      "Safe Request Result: {'title': 'Safe Request Example', 'body': 'Demonstrating error handling', 'id': 101}\n"
     ]
    }
   ],
   "source": [
    "def safe_request(method, url, **kwargs):\n",
    "    \"\"\"\n",
    "    A more robust way to make HTTP requests with error handling\n",
    "    \n",
    "    Args:\n",
    "        method (str): HTTP method (get, post, put, delete)\n",
    "        url (str): Request URL\n",
    "        **kwargs: Additional arguments for the request\n",
    "    \n",
    "    Returns:\n",
    "        dict or None: Response data or None if request fails\n",
    "    \"\"\"\n",
    "    try:\n",
    "        response = requests.request(method, url, **kwargs)\n",
    "        response.raise_for_status()  # Raises an HTTPError for bad responses\n",
    "        return response.json()\n",
    "    except Exception as e:\n",
    "        print(f\"Request failed: {e}\")\n",
    "        return None\n",
    "\n",
    "\n",
    "\n",
    "safe_post = safe_request(\n",
    "    'post', \n",
    "    f'{BASE_URL}/posts', \n",
    "    json={'title': 'Safe Request Example', 'body': 'Demonstrating error handling'}\n",
    ")\n",
    "print(\"\\nSafe Request Result:\", safe_post)"
   ]
  }
 ],
 "metadata": {
  "kernelspec": {
   "display_name": ".venv",
   "language": "python",
   "name": "python3"
  },
  "language_info": {
   "codemirror_mode": {
    "name": "ipython",
    "version": 3
   },
   "file_extension": ".py",
   "mimetype": "text/x-python",
   "name": "python",
   "nbconvert_exporter": "python",
   "pygments_lexer": "ipython3",
   "version": "3.11.9"
  }
 },
 "nbformat": 4,
 "nbformat_minor": 2
}
