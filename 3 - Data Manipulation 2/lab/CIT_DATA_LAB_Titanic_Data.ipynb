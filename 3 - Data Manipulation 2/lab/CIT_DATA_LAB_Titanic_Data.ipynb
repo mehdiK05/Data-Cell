{
 "cells": [
  {
   "cell_type": "code",
   "execution_count": 16,
   "metadata": {
    "colab": {
     "base_uri": "https://localhost:8080/"
    },
    "id": "UsbFJbp_j9EB",
    "outputId": "095bda66-e55d-43c9-f461-b4fcde0c5e27"
   },
   "outputs": [],
   "source": [
    "import requests\n",
    "\n",
    "url = \"https://raw.githubusercontent.com/datasciencedojo/datasets/master/titanic.csv\"\n",
    "response = requests.get(url)\n",
    "\n",
    "# Save the content to a file\n",
    "with open(\"titanic.csv\", \"wb\") as file:\n",
    "    file.write(response.content)\n",
    "\n",
    "# Load the CSV into a DataFrame\n",
    "import pandas as pd\n",
    "data = pd.read_csv(\"titanic.csv\")\n",
    "\n"
   ]
  },
  {
   "cell_type": "markdown",
   "metadata": {},
   "source": [
    " The Titanic Passenger dataset provides information about passengers who were aboard the RMS Titanic during its ill-fated maiden voyage. This dataset is often used for exploring patterns and factors associated with survival on the Titanic.\n",
    "\n",
    " The dataset includes the following columns:\n",
    "\n",
    "PassengerId: Unique identifier for each passenger.\n",
    "\n",
    "Survived: Survival status of the passenger (0 = Not Survived, 1 = Survived).\n",
    "\n",
    "Pclass: Passenger class (1 = First class, 2 = Second class, 3 = Third class).\n",
    "\n",
    "Sex: Gender of the passenger.\n",
    "\n",
    "Age: Age of the passenger.\n",
    "\n",
    "SibSp: Number of siblings/spouses aboard the Titanic.\n",
    "\n",
    "Parch: Number of parents/children aboard the Titanic.\n",
    "\n",
    "Fare: Fare paid by the passenger.\n",
    "\n",
    "Embarked: Port of embarkation (C = Cherbourg, Q = Queenstown, S = Southampton).\n",
    "\n",
    "Ticket: Indicates the ticket identifier.\n",
    "\n",
    "Cabin: Indicates the cabin number or is NaN if no cabin was assigned."
   ]
  },
  {
   "cell_type": "code",
   "execution_count": 18,
   "metadata": {
    "colab": {
     "base_uri": "https://localhost:8080/",
     "height": 240
    },
    "id": "LPt-Xed7eS6M",
    "outputId": "b40933be-d60f-4ab0-dcef-22f93bd15f9d"
   },
   "outputs": [
    {
     "data": {
      "text/html": [
       "<div>\n",
       "<style scoped>\n",
       "    .dataframe tbody tr th:only-of-type {\n",
       "        vertical-align: middle;\n",
       "    }\n",
       "\n",
       "    .dataframe tbody tr th {\n",
       "        vertical-align: top;\n",
       "    }\n",
       "\n",
       "    .dataframe thead th {\n",
       "        text-align: right;\n",
       "    }\n",
       "</style>\n",
       "<table border=\"1\" class=\"dataframe\">\n",
       "  <thead>\n",
       "    <tr style=\"text-align: right;\">\n",
       "      <th></th>\n",
       "      <th>PassengerId</th>\n",
       "      <th>Survived</th>\n",
       "      <th>Pclass</th>\n",
       "      <th>Name</th>\n",
       "      <th>Sex</th>\n",
       "      <th>Age</th>\n",
       "      <th>SibSp</th>\n",
       "      <th>Parch</th>\n",
       "      <th>Ticket</th>\n",
       "      <th>Fare</th>\n",
       "      <th>Cabin</th>\n",
       "      <th>Embarked</th>\n",
       "    </tr>\n",
       "  </thead>\n",
       "  <tbody>\n",
       "    <tr>\n",
       "      <th>0</th>\n",
       "      <td>1</td>\n",
       "      <td>0</td>\n",
       "      <td>3</td>\n",
       "      <td>Braund, Mr. Owen Harris</td>\n",
       "      <td>male</td>\n",
       "      <td>22.0</td>\n",
       "      <td>1</td>\n",
       "      <td>0</td>\n",
       "      <td>A/5 21171</td>\n",
       "      <td>7.2500</td>\n",
       "      <td>NaN</td>\n",
       "      <td>S</td>\n",
       "    </tr>\n",
       "    <tr>\n",
       "      <th>1</th>\n",
       "      <td>2</td>\n",
       "      <td>1</td>\n",
       "      <td>1</td>\n",
       "      <td>Cumings, Mrs. John Bradley (Florence Briggs Th...</td>\n",
       "      <td>female</td>\n",
       "      <td>38.0</td>\n",
       "      <td>1</td>\n",
       "      <td>0</td>\n",
       "      <td>PC 17599</td>\n",
       "      <td>71.2833</td>\n",
       "      <td>C85</td>\n",
       "      <td>C</td>\n",
       "    </tr>\n",
       "    <tr>\n",
       "      <th>2</th>\n",
       "      <td>3</td>\n",
       "      <td>1</td>\n",
       "      <td>3</td>\n",
       "      <td>Heikkinen, Miss. Laina</td>\n",
       "      <td>female</td>\n",
       "      <td>26.0</td>\n",
       "      <td>0</td>\n",
       "      <td>0</td>\n",
       "      <td>STON/O2. 3101282</td>\n",
       "      <td>7.9250</td>\n",
       "      <td>NaN</td>\n",
       "      <td>S</td>\n",
       "    </tr>\n",
       "    <tr>\n",
       "      <th>3</th>\n",
       "      <td>4</td>\n",
       "      <td>1</td>\n",
       "      <td>1</td>\n",
       "      <td>Futrelle, Mrs. Jacques Heath (Lily May Peel)</td>\n",
       "      <td>female</td>\n",
       "      <td>35.0</td>\n",
       "      <td>1</td>\n",
       "      <td>0</td>\n",
       "      <td>113803</td>\n",
       "      <td>53.1000</td>\n",
       "      <td>C123</td>\n",
       "      <td>S</td>\n",
       "    </tr>\n",
       "    <tr>\n",
       "      <th>4</th>\n",
       "      <td>5</td>\n",
       "      <td>0</td>\n",
       "      <td>3</td>\n",
       "      <td>Allen, Mr. William Henry</td>\n",
       "      <td>male</td>\n",
       "      <td>35.0</td>\n",
       "      <td>0</td>\n",
       "      <td>0</td>\n",
       "      <td>373450</td>\n",
       "      <td>8.0500</td>\n",
       "      <td>NaN</td>\n",
       "      <td>S</td>\n",
       "    </tr>\n",
       "  </tbody>\n",
       "</table>\n",
       "</div>"
      ],
      "text/plain": [
       "   PassengerId  Survived  Pclass  \\\n",
       "0            1         0       3   \n",
       "1            2         1       1   \n",
       "2            3         1       3   \n",
       "3            4         1       1   \n",
       "4            5         0       3   \n",
       "\n",
       "                                                Name     Sex   Age  SibSp  \\\n",
       "0                            Braund, Mr. Owen Harris    male  22.0      1   \n",
       "1  Cumings, Mrs. John Bradley (Florence Briggs Th...  female  38.0      1   \n",
       "2                             Heikkinen, Miss. Laina  female  26.0      0   \n",
       "3       Futrelle, Mrs. Jacques Heath (Lily May Peel)  female  35.0      1   \n",
       "4                           Allen, Mr. William Henry    male  35.0      0   \n",
       "\n",
       "   Parch            Ticket     Fare Cabin Embarked  \n",
       "0      0         A/5 21171   7.2500   NaN        S  \n",
       "1      0          PC 17599  71.2833   C85        C  \n",
       "2      0  STON/O2. 3101282   7.9250   NaN        S  \n",
       "3      0            113803  53.1000  C123        S  \n",
       "4      0            373450   8.0500   NaN        S  "
      ]
     },
     "execution_count": 18,
     "metadata": {},
     "output_type": "execute_result"
    }
   ],
   "source": [
    "data.head()"
   ]
  },
  {
   "cell_type": "markdown",
   "metadata": {
    "id": "WmPknzzLs-jb"
   },
   "source": [
    "# **Lab**: **Titanic Data Transformation in Python with Pandas**\n",
    "\n",
    "**Part 1**: **Applying Functions to Data**\n",
    "\n",
    "# Objective:\n",
    "**Apply various functions to transform and manipulate data in the Titanic dataset.**\n",
    "\n",
    "# Tasks:\n",
    "\n",
    "**Applying Functions using apply:**\n",
    "\n",
    "**Create a new column 'Fare_Double' where each fare is doubled using the apply method.**\n",
    "\n",
    "**Mapping Passenger Classes using map**\n",
    "\n",
    "**Create a new column 'Class_Category' by mapping the 'Pclass' values to categories (e.g., 'First', 'Second', 'Third') using a dictionary and the map method.**\n",
    "\n",
    "**Applying Functions to the Entire DataFrame using applymap:**\n",
    "\n",
    "**Create a new DataFrame 'titanic_transformed' where all numerical values are squared using the applymap method.**"
   ]
  },
  {
   "cell_type": "markdown",
   "metadata": {
    "id": "DglYRhd5uncn"
   },
   "source": [
    "#1-**Create a new column 'Fare_Double' where each fare is doubled using the apply method.**"
   ]
  },
  {
   "cell_type": "code",
   "execution_count": null,
   "metadata": {
    "id": "t-HIj9PZujMZ"
   },
   "outputs": [],
   "source": []
  },
  {
   "cell_type": "markdown",
   "metadata": {
    "id": "d_pZZC2ovcz-"
   },
   "source": [
    "#3- **Create a new column 'Class_Category' by mapping the 'Pclass' values to categories (e.g., 'First', 'Second', 'Third') using a dictionary and the map method.**"
   ]
  },
  {
   "cell_type": "code",
   "execution_count": null,
   "metadata": {
    "id": "DtT_w2TlwDmR"
   },
   "outputs": [],
   "source": []
  },
  {
   "cell_type": "markdown",
   "metadata": {
    "id": "LxCD9uQXv56T"
   },
   "source": [
    "#3- **Create a new DataFrame 'titanic_transformed' where all numerical values are squared using the applymap method.**"
   ]
  },
  {
   "cell_type": "code",
   "execution_count": null,
   "metadata": {
    "id": "EM0KI38pwEzD"
   },
   "outputs": [],
   "source": []
  },
  {
   "cell_type": "markdown",
   "metadata": {
    "id": "lYNDBGjawZvI"
   },
   "source": [
    "# **Tasks:**\n",
    "\n",
    "**Combine DataFrames using merge:**\n",
    "\n",
    "**Merge the titanic_df and cabins_df DataFrames based on the 'PassengerId' column**.\n",
    "\n",
    "Name the resulting DataFrame 'titanic_cabins'.\n",
    "\n",
    "Join DataFrames with Different Keys:\n",
    "\n",
    "Create a new DataFrame 'titanic_full' by joining the 'titanic_cabins' DataFrame with the original titanic_df DataFrame using different keys."
   ]
  },
  {
   "cell_type": "code",
   "execution_count": null,
   "metadata": {
    "id": "iNHz6tKMzY2o"
   },
   "outputs": [],
   "source": [
    "# Additional dataset\n",
    "cabins_data = {\n",
    "    'PassengerId': [1, 2, 3, 4, 5],\n",
    "    'Cabin': ['C123', 'E456', 'C123', 'G789', 'D101']\n",
    "}\n",
    "\n",
    "cabins_df = pd.DataFrame(cabins_data)"
   ]
  },
  {
   "cell_type": "markdown",
   "metadata": {
    "id": "Xo9j5nQhxBp4"
   },
   "source": [
    "# **Combine DataFrames using merge:**\n",
    "\n",
    "**Merge the titanic_df and cabins_df DataFrames based on the 'PassengerId' column. Name the resulting DataFrame 'titanic_cabins'.**"
   ]
  },
  {
   "cell_type": "code",
   "execution_count": null,
   "metadata": {
    "id": "VW5oZez-wyGg"
   },
   "outputs": [],
   "source": []
  },
  {
   "cell_type": "markdown",
   "metadata": {
    "id": "N-LuzMtDxK8_"
   },
   "source": [
    "## **Join DataFrames with Different Keys:**\n",
    "\n",
    "**Create a new DataFrame 'titanic_full' by joining the 'titanic_cabins' DataFrame with the original titanic_df DataFrame using different keys.**"
   ]
  },
  {
   "cell_type": "code",
   "execution_count": null,
   "metadata": {
    "id": "GGcQ9rmlxXd0"
   },
   "outputs": [],
   "source": []
  },
  {
   "cell_type": "markdown",
   "metadata": {
    "id": "RXtEePcNv1n0"
   },
   "source": []
  }
 ],
 "metadata": {
  "colab": {
   "provenance": [],
   "toc_visible": true
  },
  "kernelspec": {
   "display_name": "Python 3",
   "name": "python3"
  },
  "language_info": {
   "codemirror_mode": {
    "name": "ipython",
    "version": 3
   },
   "file_extension": ".py",
   "mimetype": "text/x-python",
   "name": "python",
   "nbconvert_exporter": "python",
   "pygments_lexer": "ipython3",
   "version": "3.9.7"
  }
 },
 "nbformat": 4,
 "nbformat_minor": 0
}
