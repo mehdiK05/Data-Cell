{
 "cells": [
  {
   "cell_type": "code",
   "execution_count": 1,
   "metadata": {
    "id": "0Vc-C7I4mIcL"
   },
   "outputs": [],
   "source": [
    "#!wget https://raw.githubusercontent.com/datasciencedojo/datasets/master/titanic.csv\n",
    "\n",
    "# Import pandas using its alias\n",
    "import pandas as pd\n",
    "\n",
    "# Create the DataFrame object\n",
    "titanic_df = pd.read_csv(\"titanic.csv\")\n"
   ]
  },
  {
   "cell_type": "code",
   "execution_count": 2,
   "metadata": {
    "colab": {
     "base_uri": "https://localhost:8080/",
     "height": 240
    },
    "id": "J-Y1ELtFqim5",
    "outputId": "2d411331-23d3-4f7c-e051-ed5db53da2c1"
   },
   "outputs": [
    {
     "data": {
      "text/html": [
       "<div>\n",
       "<style scoped>\n",
       "    .dataframe tbody tr th:only-of-type {\n",
       "        vertical-align: middle;\n",
       "    }\n",
       "\n",
       "    .dataframe tbody tr th {\n",
       "        vertical-align: top;\n",
       "    }\n",
       "\n",
       "    .dataframe thead th {\n",
       "        text-align: right;\n",
       "    }\n",
       "</style>\n",
       "<table border=\"1\" class=\"dataframe\">\n",
       "  <thead>\n",
       "    <tr style=\"text-align: right;\">\n",
       "      <th></th>\n",
       "      <th>PassengerId</th>\n",
       "      <th>Survived</th>\n",
       "      <th>Pclass</th>\n",
       "      <th>Name</th>\n",
       "      <th>Sex</th>\n",
       "      <th>Age</th>\n",
       "      <th>SibSp</th>\n",
       "      <th>Parch</th>\n",
       "      <th>Ticket</th>\n",
       "      <th>Fare</th>\n",
       "      <th>Cabin</th>\n",
       "      <th>Embarked</th>\n",
       "    </tr>\n",
       "  </thead>\n",
       "  <tbody>\n",
       "    <tr>\n",
       "      <th>0</th>\n",
       "      <td>1</td>\n",
       "      <td>0</td>\n",
       "      <td>3</td>\n",
       "      <td>Braund, Mr. Owen Harris</td>\n",
       "      <td>male</td>\n",
       "      <td>22.0</td>\n",
       "      <td>1</td>\n",
       "      <td>0</td>\n",
       "      <td>A/5 21171</td>\n",
       "      <td>7.2500</td>\n",
       "      <td>NaN</td>\n",
       "      <td>S</td>\n",
       "    </tr>\n",
       "    <tr>\n",
       "      <th>1</th>\n",
       "      <td>2</td>\n",
       "      <td>1</td>\n",
       "      <td>1</td>\n",
       "      <td>Cumings, Mrs. John Bradley (Florence Briggs Th...</td>\n",
       "      <td>female</td>\n",
       "      <td>38.0</td>\n",
       "      <td>1</td>\n",
       "      <td>0</td>\n",
       "      <td>PC 17599</td>\n",
       "      <td>71.2833</td>\n",
       "      <td>C85</td>\n",
       "      <td>C</td>\n",
       "    </tr>\n",
       "    <tr>\n",
       "      <th>2</th>\n",
       "      <td>3</td>\n",
       "      <td>1</td>\n",
       "      <td>3</td>\n",
       "      <td>Heikkinen, Miss. Laina</td>\n",
       "      <td>female</td>\n",
       "      <td>26.0</td>\n",
       "      <td>0</td>\n",
       "      <td>0</td>\n",
       "      <td>STON/O2. 3101282</td>\n",
       "      <td>7.9250</td>\n",
       "      <td>NaN</td>\n",
       "      <td>S</td>\n",
       "    </tr>\n",
       "    <tr>\n",
       "      <th>3</th>\n",
       "      <td>4</td>\n",
       "      <td>1</td>\n",
       "      <td>1</td>\n",
       "      <td>Futrelle, Mrs. Jacques Heath (Lily May Peel)</td>\n",
       "      <td>female</td>\n",
       "      <td>35.0</td>\n",
       "      <td>1</td>\n",
       "      <td>0</td>\n",
       "      <td>113803</td>\n",
       "      <td>53.1000</td>\n",
       "      <td>C123</td>\n",
       "      <td>S</td>\n",
       "    </tr>\n",
       "    <tr>\n",
       "      <th>4</th>\n",
       "      <td>5</td>\n",
       "      <td>0</td>\n",
       "      <td>3</td>\n",
       "      <td>Allen, Mr. William Henry</td>\n",
       "      <td>male</td>\n",
       "      <td>35.0</td>\n",
       "      <td>0</td>\n",
       "      <td>0</td>\n",
       "      <td>373450</td>\n",
       "      <td>8.0500</td>\n",
       "      <td>NaN</td>\n",
       "      <td>S</td>\n",
       "    </tr>\n",
       "  </tbody>\n",
       "</table>\n",
       "</div>"
      ],
      "text/plain": [
       "   PassengerId  Survived  Pclass  \\\n",
       "0            1         0       3   \n",
       "1            2         1       1   \n",
       "2            3         1       3   \n",
       "3            4         1       1   \n",
       "4            5         0       3   \n",
       "\n",
       "                                                Name     Sex   Age  SibSp  \\\n",
       "0                            Braund, Mr. Owen Harris    male  22.0      1   \n",
       "1  Cumings, Mrs. John Bradley (Florence Briggs Th...  female  38.0      1   \n",
       "2                             Heikkinen, Miss. Laina  female  26.0      0   \n",
       "3       Futrelle, Mrs. Jacques Heath (Lily May Peel)  female  35.0      1   \n",
       "4                           Allen, Mr. William Henry    male  35.0      0   \n",
       "\n",
       "   Parch            Ticket     Fare Cabin Embarked  \n",
       "0      0         A/5 21171   7.2500   NaN        S  \n",
       "1      0          PC 17599  71.2833   C85        C  \n",
       "2      0  STON/O2. 3101282   7.9250   NaN        S  \n",
       "3      0            113803  53.1000  C123        S  \n",
       "4      0            373450   8.0500   NaN        S  "
      ]
     },
     "execution_count": 2,
     "metadata": {},
     "output_type": "execute_result"
    }
   ],
   "source": [
    "titanic_df.head()"
   ]
  },
  {
   "cell_type": "code",
   "execution_count": 10,
   "metadata": {
    "id": "-k6t8iXXznvN"
   },
   "outputs": [
    {
     "name": "stdout",
     "output_type": "stream",
     "text": [
      "\n",
      "Modified Titanic Dataset:\n",
      "      Fare  Fare_Double  Pclass Class_Category\n",
      "0   7.2500      14.5000       3          Third\n",
      "1  71.2833     142.5666       1          First\n",
      "2   7.9250      15.8500       3          Third\n",
      "3  53.1000     106.2000       1          First\n",
      "4   8.0500      16.1000       3          Third\n",
      "\n",
      "Transformed Titanic Dataset (Numerical Values Squared):\n",
      "          Fare   Fare_Double  Pclass\n",
      "0    52.562500    210.250000       9\n",
      "1  5081.308859  20325.235436       1\n",
      "2    62.805625    251.222500       9\n",
      "3  2819.610000  11278.440000       1\n",
      "4    64.802500    259.210000       9\n"
     ]
    },
    {
     "name": "stderr",
     "output_type": "stream",
     "text": [
      "C:\\Users\\YASSINE\\AppData\\Local\\Temp\\ipykernel_12648\\263810533.py:8: FutureWarning: DataFrame.applymap has been deprecated. Use DataFrame.map instead.\n",
      "  titanic_transformed=titanic_df.select_dtypes(include=['number']).applymap(lambda x: x ** 2)\n"
     ]
    }
   ],
   "source": [
    "titanic_df['Fare_Double'] = titanic_df['Fare'].apply(lambda x: x * 2)\n",
    "\n",
    "\n",
    "class_mapping = {1: 'First', 2: 'Second', 3: 'Third'}\n",
    "titanic_df['Class_Category'] = titanic_df['Pclass'].map(class_mapping)\n",
    "\n",
    "\n",
    "titanic_transformed=titanic_df.select_dtypes(include=['number']).applymap(lambda x: x ** 2)\n",
    "\n",
    "\n",
    "print(\"\\nModified Titanic Dataset:\")\n",
    "print(titanic_df[['Fare', 'Fare_Double', 'Pclass', 'Class_Category']].head())\n",
    "print(\"\\nTransformed Titanic Dataset (Numerical Values Squared):\")\n",
    "print(titanic_transformed[['Fare', 'Fare_Double', 'Pclass']].head())\n"
   ]
  },
  {
   "cell_type": "code",
   "execution_count": 11,
   "metadata": {
    "colab": {
     "base_uri": "https://localhost:8080/"
    },
    "id": "vW0nRjFvyNKz",
    "outputId": "0bb5681a-408f-459e-9fed-a53d2a03d0a8"
   },
   "outputs": [
    {
     "name": "stdout",
     "output_type": "stream",
     "text": [
      "\n",
      "Cabins DataFrame:\n",
      "   PassengerId Cabin\n",
      "0            1  C123\n",
      "1            2  E456\n",
      "2            3  C123\n",
      "3            4  G789\n",
      "4            5  D101\n"
     ]
    }
   ],
   "source": [
    "\n",
    "cabins_data = {\n",
    "    'PassengerId': [1, 2, 3, 4, 5],\n",
    "    'Cabin': ['C123', 'E456', 'C123', 'G789', 'D101']\n",
    "}\n",
    "\n",
    "cabins_df = pd.DataFrame(cabins_data)\n",
    "\n",
    "\n",
    "print(\"\\nCabins DataFrame:\")\n",
    "print(cabins_df)\n",
    "\n",
    "\n"
   ]
  },
  {
   "cell_type": "code",
   "execution_count": 12,
   "metadata": {
    "colab": {
     "base_uri": "https://localhost:8080/"
    },
    "id": "vx-6Z9NDyqGH",
    "outputId": "a61d5805-f77c-4d0b-8083-8d3243ab50a2"
   },
   "outputs": [
    {
     "data": {
      "text/plain": [
       "(5, 15)"
      ]
     },
     "execution_count": 12,
     "metadata": {},
     "output_type": "execute_result"
    }
   ],
   "source": [
    "\n",
    "titanic_cabins = pd.merge(titanic_df, cabins_df, on='PassengerId')\n",
    "\n",
    "\n",
    "\n",
    "titanic_cabins.shape\n",
    "\n"
   ]
  },
  {
   "cell_type": "code",
   "execution_count": 13,
   "metadata": {
    "colab": {
     "base_uri": "https://localhost:8080/",
     "height": 258
    },
    "id": "pQzQ2L6SzLBG",
    "outputId": "94b7c918-767d-4e77-9339-b880541a0d58"
   },
   "outputs": [
    {
     "data": {
      "text/html": [
       "<div>\n",
       "<style scoped>\n",
       "    .dataframe tbody tr th:only-of-type {\n",
       "        vertical-align: middle;\n",
       "    }\n",
       "\n",
       "    .dataframe tbody tr th {\n",
       "        vertical-align: top;\n",
       "    }\n",
       "\n",
       "    .dataframe thead th {\n",
       "        text-align: right;\n",
       "    }\n",
       "</style>\n",
       "<table border=\"1\" class=\"dataframe\">\n",
       "  <thead>\n",
       "    <tr style=\"text-align: right;\">\n",
       "      <th></th>\n",
       "      <th>PassengerId</th>\n",
       "      <th>Survived</th>\n",
       "      <th>Pclass</th>\n",
       "      <th>Name</th>\n",
       "      <th>Sex</th>\n",
       "      <th>Age</th>\n",
       "      <th>SibSp</th>\n",
       "      <th>Parch</th>\n",
       "      <th>Ticket</th>\n",
       "      <th>Fare</th>\n",
       "      <th>Cabin_x</th>\n",
       "      <th>Embarked</th>\n",
       "      <th>Fare_Double</th>\n",
       "      <th>Class_Category</th>\n",
       "      <th>Cabin_y</th>\n",
       "    </tr>\n",
       "  </thead>\n",
       "  <tbody>\n",
       "    <tr>\n",
       "      <th>0</th>\n",
       "      <td>1</td>\n",
       "      <td>0</td>\n",
       "      <td>3</td>\n",
       "      <td>Braund, Mr. Owen Harris</td>\n",
       "      <td>male</td>\n",
       "      <td>22.0</td>\n",
       "      <td>1</td>\n",
       "      <td>0</td>\n",
       "      <td>A/5 21171</td>\n",
       "      <td>7.2500</td>\n",
       "      <td>NaN</td>\n",
       "      <td>S</td>\n",
       "      <td>14.5000</td>\n",
       "      <td>Third</td>\n",
       "      <td>C123</td>\n",
       "    </tr>\n",
       "    <tr>\n",
       "      <th>1</th>\n",
       "      <td>2</td>\n",
       "      <td>1</td>\n",
       "      <td>1</td>\n",
       "      <td>Cumings, Mrs. John Bradley (Florence Briggs Th...</td>\n",
       "      <td>female</td>\n",
       "      <td>38.0</td>\n",
       "      <td>1</td>\n",
       "      <td>0</td>\n",
       "      <td>PC 17599</td>\n",
       "      <td>71.2833</td>\n",
       "      <td>C85</td>\n",
       "      <td>C</td>\n",
       "      <td>142.5666</td>\n",
       "      <td>First</td>\n",
       "      <td>E456</td>\n",
       "    </tr>\n",
       "    <tr>\n",
       "      <th>2</th>\n",
       "      <td>3</td>\n",
       "      <td>1</td>\n",
       "      <td>3</td>\n",
       "      <td>Heikkinen, Miss. Laina</td>\n",
       "      <td>female</td>\n",
       "      <td>26.0</td>\n",
       "      <td>0</td>\n",
       "      <td>0</td>\n",
       "      <td>STON/O2. 3101282</td>\n",
       "      <td>7.9250</td>\n",
       "      <td>NaN</td>\n",
       "      <td>S</td>\n",
       "      <td>15.8500</td>\n",
       "      <td>Third</td>\n",
       "      <td>C123</td>\n",
       "    </tr>\n",
       "    <tr>\n",
       "      <th>3</th>\n",
       "      <td>4</td>\n",
       "      <td>1</td>\n",
       "      <td>1</td>\n",
       "      <td>Futrelle, Mrs. Jacques Heath (Lily May Peel)</td>\n",
       "      <td>female</td>\n",
       "      <td>35.0</td>\n",
       "      <td>1</td>\n",
       "      <td>0</td>\n",
       "      <td>113803</td>\n",
       "      <td>53.1000</td>\n",
       "      <td>C123</td>\n",
       "      <td>S</td>\n",
       "      <td>106.2000</td>\n",
       "      <td>First</td>\n",
       "      <td>G789</td>\n",
       "    </tr>\n",
       "    <tr>\n",
       "      <th>4</th>\n",
       "      <td>5</td>\n",
       "      <td>0</td>\n",
       "      <td>3</td>\n",
       "      <td>Allen, Mr. William Henry</td>\n",
       "      <td>male</td>\n",
       "      <td>35.0</td>\n",
       "      <td>0</td>\n",
       "      <td>0</td>\n",
       "      <td>373450</td>\n",
       "      <td>8.0500</td>\n",
       "      <td>NaN</td>\n",
       "      <td>S</td>\n",
       "      <td>16.1000</td>\n",
       "      <td>Third</td>\n",
       "      <td>D101</td>\n",
       "    </tr>\n",
       "  </tbody>\n",
       "</table>\n",
       "</div>"
      ],
      "text/plain": [
       "   PassengerId  Survived  Pclass  \\\n",
       "0            1         0       3   \n",
       "1            2         1       1   \n",
       "2            3         1       3   \n",
       "3            4         1       1   \n",
       "4            5         0       3   \n",
       "\n",
       "                                                Name     Sex   Age  SibSp  \\\n",
       "0                            Braund, Mr. Owen Harris    male  22.0      1   \n",
       "1  Cumings, Mrs. John Bradley (Florence Briggs Th...  female  38.0      1   \n",
       "2                             Heikkinen, Miss. Laina  female  26.0      0   \n",
       "3       Futrelle, Mrs. Jacques Heath (Lily May Peel)  female  35.0      1   \n",
       "4                           Allen, Mr. William Henry    male  35.0      0   \n",
       "\n",
       "   Parch            Ticket     Fare Cabin_x Embarked  Fare_Double  \\\n",
       "0      0         A/5 21171   7.2500     NaN        S      14.5000   \n",
       "1      0          PC 17599  71.2833     C85        C     142.5666   \n",
       "2      0  STON/O2. 3101282   7.9250     NaN        S      15.8500   \n",
       "3      0            113803  53.1000    C123        S     106.2000   \n",
       "4      0            373450   8.0500     NaN        S      16.1000   \n",
       "\n",
       "  Class_Category Cabin_y  \n",
       "0          Third    C123  \n",
       "1          First    E456  \n",
       "2          Third    C123  \n",
       "3          First    G789  \n",
       "4          Third    D101  "
      ]
     },
     "execution_count": 13,
     "metadata": {},
     "output_type": "execute_result"
    }
   ],
   "source": [
    "titanic_cabins.head(5)"
   ]
  },
  {
   "cell_type": "code",
   "execution_count": 14,
   "metadata": {
    "colab": {
     "base_uri": "https://localhost:8080/"
    },
    "id": "9K2BdJdS2G0-",
    "outputId": "c93a9f7d-925a-4edf-d1dc-afd8cbedc5d8"
   },
   "outputs": [
    {
     "name": "stdout",
     "output_type": "stream",
     "text": [
      "Left Join Result:\n",
      "  key  value_left  value_right\n",
      "0   A           1          NaN\n",
      "1   B           2          5.0\n",
      "2   C           3          NaN\n",
      "3   D           4          6.0\n",
      "\n",
      "Right Join Result:\n",
      "  key  value_left  value_right\n",
      "0   B         2.0            5\n",
      "1   D         4.0            6\n",
      "2   E         NaN            7\n",
      "3   F         NaN            8\n"
     ]
    }
   ],
   "source": [
    "import pandas as pd\n",
    "\n",
    "\n",
    "df1 = pd.DataFrame({'key': ['A', 'B', 'C', 'D'],\n",
    "                    'value_left': [1, 2, 3, 4]})\n",
    "\n",
    "df2 = pd.DataFrame({'key': ['B', 'D', 'E', 'F'],\n",
    "                    'value_right': [5, 6, 7, 8]})\n",
    "\n",
    "\n",
    "left_join_result = pd.merge(df1, df2, on='key', how='left')\n",
    "\n",
    "\n",
    "right_join_result = pd.merge(df1, df2, on='key', how='right')\n",
    "\n",
    "print(\"Left Join Result:\")\n",
    "print(left_join_result)\n",
    "\n",
    "print(\"\\nRight Join Result:\")\n",
    "print(right_join_result)\n"
   ]
  },
  {
   "cell_type": "code",
   "execution_count": 15,
   "metadata": {
    "id": "OAoB7TzIz0J-"
   },
   "outputs": [
    {
     "name": "stdout",
     "output_type": "stream",
     "text": [
      "\n",
      "Joined DataFrame (titanic_full):\n",
      "   PassengerId  Survived_cabins  Pclass_cabins  \\\n",
      "0            1                0              3   \n",
      "1            2                1              1   \n",
      "2            3                1              3   \n",
      "3            4                1              1   \n",
      "4            5                0              3   \n",
      "\n",
      "                                         Name_cabins Sex_cabins  Age_cabins  \\\n",
      "0                            Braund, Mr. Owen Harris       male        22.0   \n",
      "1  Cumings, Mrs. John Bradley (Florence Briggs Th...     female        38.0   \n",
      "2                             Heikkinen, Miss. Laina     female        26.0   \n",
      "3       Futrelle, Mrs. Jacques Heath (Lily May Peel)     female        35.0   \n",
      "4                           Allen, Mr. William Henry       male        35.0   \n",
      "\n",
      "   SibSp_cabins  Parch_cabins     Ticket_cabins  Fare_cabins  ...  \\\n",
      "0             1             0         A/5 21171       7.2500  ...   \n",
      "1             1             0          PC 17599      71.2833  ...   \n",
      "2             0             0  STON/O2. 3101282       7.9250  ...   \n",
      "3             1             0            113803      53.1000  ...   \n",
      "4             0             0            373450       8.0500  ...   \n",
      "\n",
      "  Sex_original Age_original  SibSp_original Parch_original   Ticket_original  \\\n",
      "0         male         22.0               1              0         A/5 21171   \n",
      "1       female         38.0               1              0          PC 17599   \n",
      "2       female         26.0               0              0  STON/O2. 3101282   \n",
      "3       female         35.0               1              0            113803   \n",
      "4         male         35.0               0              0            373450   \n",
      "\n",
      "   Fare_original  Cabin Embarked_original Fare_Double_original  \\\n",
      "0         7.2500    NaN                 S              14.5000   \n",
      "1        71.2833    C85                 C             142.5666   \n",
      "2         7.9250    NaN                 S              15.8500   \n",
      "3        53.1000   C123                 S             106.2000   \n",
      "4         8.0500    NaN                 S              16.1000   \n",
      "\n",
      "   Class_Category_original  \n",
      "0                    Third  \n",
      "1                    First  \n",
      "2                    Third  \n",
      "3                    First  \n",
      "4                    Third  \n",
      "\n",
      "[5 rows x 28 columns]\n"
     ]
    }
   ],
   "source": [
    "\n",
    "titanic_full = pd.merge(titanic_cabins, titanic_df, left_on='PassengerId', right_on='PassengerId', suffixes=('_cabins', '_original'))\n",
    "\n",
    "\n",
    "print(\"\\nJoined DataFrame (titanic_full):\")\n",
    "print(titanic_full.head())"
   ]
  }
 ],
 "metadata": {
  "colab": {
   "provenance": []
  },
  "kernelspec": {
   "display_name": "Python 3",
   "name": "python3"
  },
  "language_info": {
   "codemirror_mode": {
    "name": "ipython",
    "version": 3
   },
   "file_extension": ".py",
   "mimetype": "text/x-python",
   "name": "python",
   "nbconvert_exporter": "python",
   "pygments_lexer": "ipython3",
   "version": "3.9.7"
  }
 },
 "nbformat": 4,
 "nbformat_minor": 0
}
