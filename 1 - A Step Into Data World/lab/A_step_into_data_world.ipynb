{
  "nbformat": 4,
  "nbformat_minor": 0,
  "metadata": {
    "colab": {
      "provenance": []
    },
    "kernelspec": {
      "name": "python3",
      "display_name": "Python 3"
    },
    "language_info": {
      "name": "python"
    }
  },
  "cells": [
    {
      "cell_type": "markdown",
      "source": [
        "**Welcome future Data Scientist !😍**"
      ],
      "metadata": {
        "id": "YgSRempQeUku"
      }
    },
    {
      "cell_type": "markdown",
      "source": [
        "# Essentials :"
      ],
      "metadata": {
        "id": "EH07UObkexTX"
      }
    },
    {
      "cell_type": "code",
      "execution_count": null,
      "metadata": {
        "id": "dJCP5izcPrq0"
      },
      "outputs": [],
      "source": [
        "import time\n",
        "\n",
        "for i in range(5, 0, -1):\n",
        "    print(f\"Countdown: {i}...\")\n",
        "    time.sleep(1)\n",
        "print(\"CIT a7ssan club! 👾\")"
      ]
    },
    {
      "cell_type": "markdown",
      "source": [
        "# Coffe-Sleep Correlation 🤔"
      ],
      "metadata": {
        "id": "41KNs57wfkGE"
      }
    },
    {
      "cell_type": "code",
      "source": [
        "# Cell 2: Create our first dataset (random numbers 🤪)\n",
        "import pandas as pd\n",
        "import numpy as np\n",
        "import random\n",
        "data = {\n",
        "    \"Student\": [\n",
        "    \"Hafsa\", \"Youssef\", \"Mohamed\", \"Hamza\", \"Rachid\", \"Karim\", \"Anas\", \"Othmane\", \"Mehdi\", \"Hicham\",\n",
        "    \"Soufiane\", \"Marouane\", \"Ayoub\", \"Reda\", \"Nabil\", \"Khalid\", \"Adil\", \"Ismail\", \"Amine\", \"Taha\",\n",
        "    \"Idriss\", \"Yassine\", \"Samir\", \"Mourad\", \"Hassan\", \"Mustapha\", \"Walid\", \"Saad\", \"Zouhair\", \"Omar\",\n",
        "    \"Imad\", \"Rida\", \"Badr\", \"Jamal\", \"Bilal\", \"Farid\", \"Fouad\", \"Abderrahmane\", \"Rayan\", \"Houssine\",\n",
        "    \"Abdellah\", \"Hatim\", \"Chakib\", \"Souhail\", \"Nassim\", \"Achraf\", \"Mohamed-Amine\", \"Younes\", \"Hamid\", \"Idris\",\n",
        "    \"Fatima\", \"Khadija\", \"Aicha\", \"Leila\", \"Salma\", \"Nadia\", \"Imane\", \"Safae\", \"Samira\", \"Rania\",\n",
        "    \"Naima\", \"Hajar\", \"Asmae\", \"Zineb\", \"Lamia\", \"Kawtar\", \"Ikram\", \"Wafae\", \"Ghita\", \"Meriem\",\n",
        "    \"Amal\", \"Houda\", \"Mouna\", \"Bahia\", \"Ines\", \"Ilham\", \"Jamila\", \"Karima\", \"Rajae\", \"Souad\",\n",
        "    \"Chaymae\", \"Rachida\", \"Loubna\", \"Basma\", \"Amina\", \"Oumayma\", \"Nisrine\", \"Latifa\", \"Sanae\", \"Najat\",\n",
        "    \"Yasmina\", \"Siham\", \"Hanane\", \"Malika\", \"Farah\", \"Fatiha\", \"Ibtissam\", \"Hend\", \"Kaoutar\", \"Zohra\"\n",
        "],\n",
        "    \"Coffee_cups\": np.random.randint(0, 6, 100),\n",
        "    \"Hours_of_sleep\": [random.uniform(3, 10) for _ in range(100)],\n",
        "}\n",
        "df = pd.DataFrame(data)\n",
        "df\n"
      ],
      "metadata": {
        "id": "LkHobXplSc0w"
      },
      "execution_count": null,
      "outputs": []
    },
    {
      "cell_type": "code",
      "source": [
        "# Cell 3: Quick analysis 🔎\n",
        "print(\"Average coffee cups per student:\", df[\"Coffee_cups\"].mean())\n",
        "print(\"Average sleep hours:\", df[\"Hours_of_sleep\"].mean())\n",
        "\n",
        "# A silly correlation\n",
        "correlation = df[\"Coffee_cups\"].corr(df[\"Hours_of_sleep\"])\n",
        "print(\"\\nCorrelation between coffee and sleep:\", correlation)\n",
        "if correlation < 0:\n",
        "    print(\"☕➡️😴 The more coffee, the less sleep… makes sense!\")\n",
        "else:\n",
        "    print(\"🤔 Weird… maybe coffee makes them sleep more?\")"
      ],
      "metadata": {
        "id": "qJSPS6ecQheJ"
      },
      "execution_count": null,
      "outputs": []
    },
    {
      "cell_type": "code",
      "source": [
        "# Cell 4: A fun plot 🎨\n",
        "import matplotlib.pyplot as plt\n",
        "\n",
        "plt.scatter(df[\"Coffee_cups\"], df[\"Hours_of_sleep\"], c=\"purple\", s=100)\n",
        "plt.xlabel(\"☕ Coffee Cups\")\n",
        "plt.ylabel(\"😴 Hours of Sleep\")\n",
        "plt.title(\"Do Data Students need coffee or sleep?\")\n",
        "plt.show()"
      ],
      "metadata": {
        "id": "4-FwBhRKRQcC"
      },
      "execution_count": null,
      "outputs": []
    },
    {
      "cell_type": "code",
      "source": [
        "# Cell 5: Make predictions (totally not serious)\n",
        "def predict_grade(coffee, sleep):\n",
        "    if coffee > 3 and sleep < 5:\n",
        "        return \"⚡ Genius mode (but tired)\"\n",
        "    elif sleep > 7:\n",
        "        return \"😇 Well-rested... maybe too chill\"\n",
        "    else:\n",
        "        return \"📚 Normal hardworking student\"\n",
        "\n",
        "# Try it\n",
        "print(predict_grade(4, 4))\n",
        "print(predict_grade(1, 8))\n",
        "print(predict_grade(2, 6))\n"
      ],
      "metadata": {
        "id": "gqO0ybm4TrxW"
      },
      "execution_count": null,
      "outputs": []
    }
  ]
}